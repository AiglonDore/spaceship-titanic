{
 "cells": [
  {
   "attachments": {},
   "cell_type": "markdown",
   "id": "abf79717",
   "metadata": {},
   "source": [
    "# Spaceship titanic"
   ]
  },
  {
   "cell_type": "code",
   "execution_count": null,
   "id": "9797e4c0",
   "metadata": {},
   "outputs": [],
   "source": [
    "#data\n",
    "import numpy as np\n",
    "import pandas as pd\n",
    "\n",
    "#visualization\n",
    "import matplotlib.pyplot as plt\n",
    "import seaborn as sns\n",
    "import missingno as msno\n",
    "\n",
    "sns.set(rc={'figure.figsize':(8, 6)})\n",
    "sns.set_style('whitegrid')"
   ]
  },
  {
   "attachments": {},
   "cell_type": "markdown",
   "id": "323a3538",
   "metadata": {},
   "source": [
    "# Visualization\n",
    "\n",
    "Before any analysis, we need to visualize the data. We can use the `seaborn` library to plot the data."
   ]
  },
  {
   "cell_type": "code",
   "execution_count": null,
   "id": "7db8d104",
   "metadata": {},
   "outputs": [],
   "source": [
    "train_data = pd.read_csv(\"data/train.csv\")\n",
    "test_data = pd.read_csv(\"data/test.csv\")\n",
    "\n",
    "train_data.head()"
   ]
  },
  {
   "cell_type": "code",
   "execution_count": null,
   "id": "2d2bfd58",
   "metadata": {},
   "outputs": [],
   "source": [
    "test_data.head()"
   ]
  },
  {
   "cell_type": "code",
   "execution_count": null,
   "id": "9bc99802",
   "metadata": {},
   "outputs": [],
   "source": [
    "print(train_data.shape)\n",
    "print(test_data.shape)"
   ]
  },
  {
   "cell_type": "code",
   "execution_count": null,
   "id": "a8936873",
   "metadata": {},
   "outputs": [],
   "source": [
    "print(\"train= \",train_data.info())"
   ]
  },
  {
   "cell_type": "code",
   "execution_count": null,
   "id": "9ee54e0f",
   "metadata": {},
   "outputs": [],
   "source": [
    "print(\"test= \",test_data.info())"
   ]
  },
  {
   "cell_type": "code",
   "execution_count": null,
   "id": "7000394d",
   "metadata": {},
   "outputs": [],
   "source": [
    "# Descriptive Statistics\n",
    "train_data.describe().T"
   ]
  },
  {
   "cell_type": "code",
   "execution_count": null,
   "id": "f678962b",
   "metadata": {},
   "outputs": [],
   "source": [
    "sns.countplot(data=train_data, x='Destination', hue='Transported')"
   ]
  },
  {
   "cell_type": "code",
   "execution_count": null,
   "id": "0a342903",
   "metadata": {},
   "outputs": [],
   "source": [
    "sns.countplot(data=train_data, x='HomePlanet', hue='Transported')"
   ]
  },
  {
   "cell_type": "code",
   "execution_count": null,
   "id": "2f76f730",
   "metadata": {},
   "outputs": [],
   "source": [
    "sns.countplot(data=train_data, x='HomePlanet', hue='Destination')"
   ]
  },
  {
   "attachments": {},
   "cell_type": "markdown",
   "id": "42892325",
   "metadata": {},
   "source": [
    "# Visualization of missing data"
   ]
  },
  {
   "cell_type": "code",
   "execution_count": null,
   "id": "842675eb",
   "metadata": {},
   "outputs": [],
   "source": [
    "# Using Missingno to Diagnose Data Sparsity\n",
    "\n",
    "print(train_data.isnull().sum())\n",
    "msno.matrix(train_data).set_title(\"Train set\",fontsize=20)"
   ]
  },
  {
   "cell_type": "code",
   "execution_count": null,
   "id": "5a2a47de",
   "metadata": {},
   "outputs": [],
   "source": [
    "print(test_data.isnull().sum())\n",
    "msno.matrix(test_data).set_title(\"Test set\",fontsize=20)"
   ]
  },
  {
   "cell_type": "code",
   "execution_count": null,
   "id": "521e9748",
   "metadata": {},
   "outputs": [],
   "source": [
    "## Visualize Correlation \n",
    "plt.figure(5, figsize=(25, 10))\n",
    "corr = train_data.apply(lambda x: pd.factorize(x)[0]).corr()\n",
    "mask = np.triu(np.ones_like(corr, dtype=bool))\n",
    "ax = sns.heatmap(corr, mask=mask, xticklabels=corr.columns, yticklabels=corr.columns, annot=True, linewidths=.2, cmap='coolwarm', vmin=-1, vmax=1)\n",
    "plt.show()"
   ]
  },
  {
   "cell_type": "markdown",
   "id": "cd1b485d",
   "metadata": {},
   "source": [
    "##  Feature Engineering"
   ]
  },
  {
   "cell_type": "code",
   "execution_count": null,
   "id": "517396d0",
   "metadata": {},
   "outputs": [],
   "source": []
  }
 ],
 "metadata": {
  "kernelspec": {
   "display_name": "Python 3",
   "language": "python",
   "name": "python3"
  },
  "language_info": {
   "codemirror_mode": {
    "name": "ipython",
    "version": 3
   },
   "file_extension": ".py",
   "mimetype": "text/x-python",
   "name": "python",
   "nbconvert_exporter": "python",
   "pygments_lexer": "ipython3",
   "version": "3.9.7"
  },
  "vscode": {
   "interpreter": {
    "hash": "e13816212fbf99b256aa697e4560deaee36e03de1f48b7ff11501fca2851863b"
   }
  }
 },
 "nbformat": 4,
 "nbformat_minor": 5
}
