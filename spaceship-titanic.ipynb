{
 "cells": [
  {
   "cell_type": "markdown",
   "id": "41a8df27",
   "metadata": {},
   "source": [
    "# Spaceship titanic"
   ]
  },
  {
   "cell_type": "markdown",
   "id": "b8bfdb9b",
   "metadata": {},
   "source": [
    "# 1. Import Libraries/ Data Loading "
   ]
  },
  {
   "cell_type": "code",
   "execution_count": 1,
   "id": "9797e4c0",
   "metadata": {},
   "outputs": [],
   "source": [
    "import numpy as np\n",
    "import pandas as pd\n",
    "\n",
    "import matplotlib.pyplot as plt\n",
    "import seaborn as sns\n",
    "import missingno as msno\n",
    "import plotly.express as px\n",
    "\n",
    "from sklearn.preprocessing import LabelEncoder\n",
    "\n",
    "sns.set(rc={'figure.figsize':(6, 4)})\n",
    "sns.set_style('whitegrid')\n",
    "sns.color_palette(\"flare\")\n",
    "sns.set_palette(sns.color_palette(\"flare\"))"
   ]
  },
  {
   "cell_type": "code",
   "execution_count": 2,
   "id": "8d03b267",
   "metadata": {},
   "outputs": [],
   "source": [
    "train_data = pd.read_csv(\"data/train.csv\")\n",
    "test_data = pd.read_csv(\"data/test.csv\")"
   ]
  },
  {
   "cell_type": "markdown",
   "id": "a792d14c",
   "metadata": {},
   "source": [
    "# 2. EDA (Exploratory Data Analysis) and Data Preprocessing\n",
    "\n",
    "\n",
    "The goal of EDA is to understand the main characteristics of the data and identify any patterns, outliers, or other features of the data that are important to know before building a model or making predictions."
   ]
  },
  {
   "cell_type": "markdown",
   "id": "323a3538",
   "metadata": {},
   "source": [
    "### Observations in Train Data\n",
    "It's a first step in EDA. It is useful for understanding the main characteristics of the data and identifying any patterns, outliers, or other features of the data.\n",
    "\n",
    "- There are total of 14 columns and 8693 rows in train data.\n",
    "- Train data contains 119378 observation with 2324 missing values.\n",
    "- All 12 feature columns have missing values in them with CryoSleep having highest missing values (217) \n",
    "- Transported is the target variable which is only available in the train dataset."
   ]
  },
  {
   "cell_type": "code",
   "execution_count": null,
   "id": "7db8d104",
   "metadata": {},
   "outputs": [],
   "source": [
    "train_data.head()"
   ]
  },
  {
   "cell_type": "code",
   "execution_count": null,
   "id": "9bc99802",
   "metadata": {},
   "outputs": [],
   "source": [
    "print(f'Shape of train data: {train_data.shape}')"
   ]
  },
  {
   "cell_type": "code",
   "execution_count": null,
   "id": "dc3ac794",
   "metadata": {},
   "outputs": [],
   "source": [
    "print(f'Number of rows in train data: {train_data.shape[0]}')\n",
    "print(f'Number of columns in train data: {train_data.shape[1]}')\n",
    "print(f'Number of values in train data: {train_data.count().sum()}')\n",
    "print(f'Number missing values in train data: {sum(train_data.isna().sum())}')"
   ]
  },
  {
   "cell_type": "code",
   "execution_count": null,
   "id": "ade79955",
   "metadata": {},
   "outputs": [],
   "source": [
    "print(train_data.isna().sum().sort_values(ascending = False))"
   ]
  },
  {
   "cell_type": "markdown",
   "id": "c88763fc",
   "metadata": {},
   "source": [
    "The basic statistics for each variables which contain information on count, mean, standard deviation, minimum, 1st quartile, median, 3rd quartile and maximum."
   ]
  },
  {
   "cell_type": "code",
   "execution_count": null,
   "id": "7000394d",
   "metadata": {},
   "outputs": [],
   "source": [
    "# Descriptive Statistics\n",
    "train_data.describe()"
   ]
  },
  {
   "cell_type": "markdown",
   "id": "b91b086e",
   "metadata": {},
   "source": [
    "The pandas-profiling library allows you to generate a profile report that allows you to obtain the types of all the columns and to access statistical details at the quantile level, descriptions, histograms, and the most frequent and exterm values."
   ]
  },
  {
   "cell_type": "code",
   "execution_count": null,
   "id": "481d84ac",
   "metadata": {
    "scrolled": true
   },
   "outputs": [],
   "source": [
    "from pandas_profiling import ProfileReport\n",
    "\n",
    "ProfileReport(train_data)"
   ]
  },
  {
   "cell_type": "markdown",
   "id": "ee957fa0",
   "metadata": {},
   "source": [
    "### Observations in Test Data\n",
    "- There are total of 13 columns and 4277 rows in test data.\n",
    "- Test data contains 54484 observation with 1117 missing values.\n",
    "- All 12 feature columns have missing values in them with FoodCourt having highest missing values (106)"
   ]
  },
  {
   "cell_type": "code",
   "execution_count": null,
   "id": "21b6ebb0",
   "metadata": {},
   "outputs": [],
   "source": [
    "test_data.head()"
   ]
  },
  {
   "cell_type": "code",
   "execution_count": null,
   "id": "1b4489d8",
   "metadata": {},
   "outputs": [],
   "source": [
    "print(f'Shape of test data: {test_data.shape}')"
   ]
  },
  {
   "cell_type": "code",
   "execution_count": null,
   "id": "89486f99",
   "metadata": {},
   "outputs": [],
   "source": [
    "print(f'Number of rows in test data: {test_data.shape[0]}')\n",
    "print(f'Number of columns in test data: {test_data.shape[1]}')\n",
    "print(f'Number of values in train data: {test_data.count().sum()}')\n",
    "print(f'Number of rows with missing values  in test data: {sum(test_data.isna().sum())}')"
   ]
  },
  {
   "cell_type": "code",
   "execution_count": null,
   "id": "efeb0b5c",
   "metadata": {},
   "outputs": [],
   "source": [
    "print((test_data.isna().sum().sort_values(ascending = False)))"
   ]
  },
  {
   "cell_type": "code",
   "execution_count": null,
   "id": "0b8ee9b8",
   "metadata": {},
   "outputs": [],
   "source": [
    "# statistics of test data \n",
    "test_data.describe()"
   ]
  },
  {
   "cell_type": "markdown",
   "id": "d7a6e760",
   "metadata": {},
   "source": [
    "### Visualization of data"
   ]
  },
  {
   "cell_type": "code",
   "execution_count": null,
   "id": "e3bfae3a",
   "metadata": {},
   "outputs": [],
   "source": [
    "enc =LabelEncoder()\n",
    "train_data['Transported'] = enc.fit_transform(train_data['Transported'])\n",
    "sns.countplot(data=train_data,x=train_data.Transported)"
   ]
  },
  {
   "cell_type": "code",
   "execution_count": 382,
   "id": "f678962b",
   "metadata": {},
   "outputs": [
    {
     "data": {
      "text/plain": [
       "<AxesSubplot: xlabel='Destination', ylabel='count'>"
      ]
     },
     "execution_count": 382,
     "metadata": {},
     "output_type": "execute_result"
    },
    {
     "data": {
      "image/png": "[encoded data removed]",
      "text/plain": [
       "<Figure size 600x400 with 1 Axes>"
      ]
     },
     "metadata": {},
     "output_type": "display_data"
    }
   ],
   "source": [
    "sns.countplot(data=train_data, x='Destination', hue='Transported')"
   ]
  },
  {
   "cell_type": "code",
   "execution_count": 383,
   "id": "0a342903",
   "metadata": {},
   "outputs": [
    {
     "data": {
      "text/plain": [
       "<AxesSubplot: xlabel='HomePlanet', ylabel='count'>"
      ]
     },
     "execution_count": 383,
     "metadata": {},
     "output_type": "execute_result"
    },
    {
     "data": {
      "image/png": "[encoded data removed]",
      "text/plain": [
       "<Figure size 600x400 with 1 Axes>"
      ]
     },
     "metadata": {},
     "output_type": "display_data"
    }
   ],
   "source": [
    "sns.countplot(data=train_data, x='HomePlanet', hue='Transported')"
   ]
  },
  {
   "cell_type": "code",
   "execution_count": 384,
   "id": "2f76f730",
   "metadata": {},
   "outputs": [
    {
     "data": {
      "text/plain": [
       "<AxesSubplot: xlabel='HomePlanet', ylabel='count'>"
      ]
     },
     "execution_count": 384,
     "metadata": {},
     "output_type": "execute_result"
    },
    {
     "data": {
      "image/png": "[encoded data removed]",
      "text/plain": [
       "<Figure size 600x400 with 1 Axes>"
      ]
     },
     "metadata": {},
     "output_type": "display_data"
    }
   ],
   "source": [
    "sns.countplot(data=train_data, x='HomePlanet', hue='Destination')"
   ]
  },
  {
   "cell_type": "markdown",
   "id": "42892325",
   "metadata": {},
   "source": [
    "### Visualization of missing data"
   ]
  },
  {
   "cell_type": "code",
   "execution_count": null,
   "id": "842675eb",
   "metadata": {},
   "outputs": [],
   "source": [
    "# Using Missingno to Diagnose Data Sparsity\n",
    "\n",
    "msno.matrix(train_data).set_title(\"Train set\",fontsize=20)"
   ]
  },
  {
   "cell_type": "code",
   "execution_count": null,
   "id": "a4466954",
   "metadata": {},
   "outputs": [],
   "source": [
    "msno.matrix(test_data).set_title(\"Test set\",fontsize=20)"
   ]
  },
  {
   "cell_type": "markdown",
   "id": "6c666a84",
   "metadata": {},
   "source": [
    "### Correlation matrix\n",
    "\n",
    "Darker colors indicate a stronger positive correlation, while lighter colors indicate a weaker positive correlation or a negative correlation."
   ]
  },
  {
   "cell_type": "code",
   "execution_count": null,
   "id": "cb38d6b6",
   "metadata": {},
   "outputs": [],
   "source": [
    "corr = train_data.corr()\n",
    "\n",
    "fig, ax = plt.subplots(figsize=(10, 10))\n",
    "sns.heatmap(corr, annot=True, ax=ax)\n",
    "plt.show()"
   ]
  },
  {
   "cell_type": "code",
   "execution_count": null,
   "id": "521e9748",
   "metadata": {},
   "outputs": [],
   "source": [
    "plt.figure(5, figsize=(25, 10))\n",
    "corr = train_data.apply(lambda x: pd.factorize(x)[0]).corr()\n",
    "mask = np.triu(np.ones_like(corr, dtype=bool))\n",
    "ax = sns.heatmap(corr, mask=mask, xticklabels=corr.columns, yticklabels=corr.columns, annot=True, linewidths=.2, cmap='coolwarm', vmin=-1, vmax=1)\n",
    "plt.show()"
   ]
  },
  {
   "cell_type": "markdown",
   "id": "48e0ce0f",
   "metadata": {},
   "source": [
    "# 3. Feature Engineering\n",
    "Feature engineering is the process of using domain knowledge to extract features from raw data that can be used to train machine learning models. It involves transforming raw data into a format that can be easily understood by the model, such as converting text to numerical values. The goal of feature engineering is to create a set of features that are most informative and relevant for the task at hand, which can improve the performance of the model.\n"
   ]
  },
  {
   "cell_type": "code",
   "execution_count": 3,
   "id": "23739c6d",
   "metadata": {},
   "outputs": [],
   "source": [
    "train_data.drop('Name', axis=1, inplace=True)\n",
    "test_data.drop('Name', axis=1, inplace=True)"
   ]
  },
  {
   "cell_type": "code",
   "execution_count": 4,
   "id": "460f6cd8",
   "metadata": {},
   "outputs": [],
   "source": [
    "train_data['Transported'].replace(False, 0, inplace=True)\n",
    "train_data['Transported'].replace(True, 1, inplace=True)"
   ]
  },
  {
   "cell_type": "code",
   "execution_count": 5,
   "id": "4247f3d5",
   "metadata": {},
   "outputs": [],
   "source": [
    "train_data[['deck','num', 'side']] = train_data['Cabin'].str.split('/', expand=True)\n",
    "test_data[['deck','num', 'side']] = test_data['Cabin'].str.split('/', expand=True)\n",
    "\n",
    "train_data.drop('Cabin', axis=1, inplace=True)\n",
    "test_data.drop('Cabin', axis=1, inplace=True)\n",
    "\n",
    "\n",
    "train_data.drop('num', axis=1, inplace=True)\n",
    "test_data.drop('num', axis=1, inplace=True)"
   ]
  },
  {
   "cell_type": "code",
   "execution_count": 6,
   "id": "0a49e0e7",
   "metadata": {},
   "outputs": [],
   "source": [
    "col_to_sum = ['RoomService', 'FoodCourt', 'ShoppingMall', 'Spa', 'VRDeck']\n",
    "\n",
    "train_data['total_spent'] = train_data[col_to_sum].sum(axis=1)\n",
    "test_data['total_spent'] = test_data[col_to_sum].sum(axis=1)"
   ]
  },
  {
   "cell_type": "code",
   "execution_count": 7,
   "id": "76b0bd7d",
   "metadata": {},
   "outputs": [
    {
     "data": {
      "text/plain": [
       "<AxesSubplot: >"
      ]
     },
     "execution_count": 7,
     "metadata": {},
     "output_type": "execute_result"
    },
    {
     "data": {
      "image/png": "[encoded data removed]",
      "text/plain": [
       "<Figure size 600x500 with 1 Axes>"
      ]
     },
     "metadata": {},
     "output_type": "display_data"
    }
   ],
   "source": [
    "plt.figure(figsize=(6,5 ))\n",
    "train_data['deck'].value_counts().plot.bar(rot=0)"
   ]
  },
  {
   "cell_type": "code",
   "execution_count": 8,
   "id": "e810208a",
   "metadata": {},
   "outputs": [
    {
     "data": {
      "text/plain": [
       "<AxesSubplot: >"
      ]
     },
     "execution_count": 8,
     "metadata": {},
     "output_type": "execute_result"
    },
    {
     "data": {
      "image/png": "[encoded data removed]",
      "text/plain": [
       "<Figure size 600x500 with 1 Axes>"
      ]
     },
     "metadata": {},
     "output_type": "display_data"
    }
   ],
   "source": [
    "plt.figure(figsize=(6,5 ))\n",
    "train_data['side'].value_counts().plot.bar(rot=0)"
   ]
  },
  {
   "cell_type": "code",
   "execution_count": 9,
   "id": "527d1464",
   "metadata": {},
   "outputs": [
    {
     "data": {
      "text/plain": [
       "array([[<AxesSubplot: title={'center': 'Age'}>]], dtype=object)"
      ]
     },
     "execution_count": 9,
     "metadata": {},
     "output_type": "execute_result"
    },
    {
     "data": {
      "image/png": "[encoded data removed]",
      "text/plain": [
       "<Figure size 600x400 with 1 Axes>"
      ]
     },
     "metadata": {},
     "output_type": "display_data"
    }
   ],
   "source": [
    "train_data.hist(\"Age\")"
   ]
  },
  {
   "cell_type": "code",
   "execution_count": 10,
   "id": "788ca669",
   "metadata": {},
   "outputs": [
    {
     "data": {
      "text/plain": [
       "count    8514.000000\n",
       "mean       28.827930\n",
       "std        14.489021\n",
       "min         0.000000\n",
       "25%        19.000000\n",
       "50%        27.000000\n",
       "75%        38.000000\n",
       "max        79.000000\n",
       "Name: Age, dtype: float64"
      ]
     },
     "execution_count": 10,
     "metadata": {},
     "output_type": "execute_result"
    }
   ],
   "source": [
    "train_data.Age.describe()"
   ]
  },
  {
   "cell_type": "code",
   "execution_count": 11,
   "id": "41e841de",
   "metadata": {},
   "outputs": [
    {
     "data": {
      "text/html": [
       "<div>\n",
       "<style scoped>\n",
       "    .dataframe tbody tr th:only-of-type {\n",
       "        vertical-align: middle;\n",
       "    }\n",
       "\n",
       "    .dataframe tbody tr th {\n",
       "        vertical-align: top;\n",
       "    }\n",
       "\n",
       "    .dataframe thead th {\n",
       "        text-align: right;\n",
       "    }\n",
       "</style>\n",
       "<table border=\"1\" class=\"dataframe\">\n",
       "  <thead>\n",
       "    <tr style=\"text-align: right;\">\n",
       "      <th></th>\n",
       "      <th>PassengerId</th>\n",
       "      <th>HomePlanet</th>\n",
       "      <th>CryoSleep</th>\n",
       "      <th>Destination</th>\n",
       "      <th>Age</th>\n",
       "      <th>VIP</th>\n",
       "      <th>RoomService</th>\n",
       "      <th>FoodCourt</th>\n",
       "      <th>ShoppingMall</th>\n",
       "      <th>Spa</th>\n",
       "      <th>VRDeck</th>\n",
       "      <th>Transported</th>\n",
       "      <th>deck</th>\n",
       "      <th>side</th>\n",
       "      <th>total_spent</th>\n",
       "      <th>Age_Group</th>\n",
       "    </tr>\n",
       "  </thead>\n",
       "  <tbody>\n",
       "    <tr>\n",
       "      <th>0</th>\n",
       "      <td>0001_01</td>\n",
       "      <td>Europa</td>\n",
       "      <td>False</td>\n",
       "      <td>TRAPPIST-1e</td>\n",
       "      <td>39.0</td>\n",
       "      <td>False</td>\n",
       "      <td>0.0</td>\n",
       "      <td>0.0</td>\n",
       "      <td>0.0</td>\n",
       "      <td>0.0</td>\n",
       "      <td>0.0</td>\n",
       "      <td>0</td>\n",
       "      <td>B</td>\n",
       "      <td>P</td>\n",
       "      <td>0.0</td>\n",
       "      <td>adult</td>\n",
       "    </tr>\n",
       "    <tr>\n",
       "      <th>1</th>\n",
       "      <td>0002_01</td>\n",
       "      <td>Earth</td>\n",
       "      <td>False</td>\n",
       "      <td>TRAPPIST-1e</td>\n",
       "      <td>24.0</td>\n",
       "      <td>False</td>\n",
       "      <td>109.0</td>\n",
       "      <td>9.0</td>\n",
       "      <td>25.0</td>\n",
       "      <td>549.0</td>\n",
       "      <td>44.0</td>\n",
       "      <td>1</td>\n",
       "      <td>F</td>\n",
       "      <td>S</td>\n",
       "      <td>736.0</td>\n",
       "      <td>adult</td>\n",
       "    </tr>\n",
       "    <tr>\n",
       "      <th>2</th>\n",
       "      <td>0003_01</td>\n",
       "      <td>Europa</td>\n",
       "      <td>False</td>\n",
       "      <td>TRAPPIST-1e</td>\n",
       "      <td>58.0</td>\n",
       "      <td>True</td>\n",
       "      <td>43.0</td>\n",
       "      <td>3576.0</td>\n",
       "      <td>0.0</td>\n",
       "      <td>6715.0</td>\n",
       "      <td>49.0</td>\n",
       "      <td>0</td>\n",
       "      <td>A</td>\n",
       "      <td>S</td>\n",
       "      <td>10383.0</td>\n",
       "      <td>older</td>\n",
       "    </tr>\n",
       "    <tr>\n",
       "      <th>3</th>\n",
       "      <td>0003_02</td>\n",
       "      <td>Europa</td>\n",
       "      <td>False</td>\n",
       "      <td>TRAPPIST-1e</td>\n",
       "      <td>33.0</td>\n",
       "      <td>False</td>\n",
       "      <td>0.0</td>\n",
       "      <td>1283.0</td>\n",
       "      <td>371.0</td>\n",
       "      <td>3329.0</td>\n",
       "      <td>193.0</td>\n",
       "      <td>0</td>\n",
       "      <td>A</td>\n",
       "      <td>S</td>\n",
       "      <td>5176.0</td>\n",
       "      <td>adult</td>\n",
       "    </tr>\n",
       "    <tr>\n",
       "      <th>4</th>\n",
       "      <td>0004_01</td>\n",
       "      <td>Earth</td>\n",
       "      <td>False</td>\n",
       "      <td>TRAPPIST-1e</td>\n",
       "      <td>16.0</td>\n",
       "      <td>False</td>\n",
       "      <td>303.0</td>\n",
       "      <td>70.0</td>\n",
       "      <td>151.0</td>\n",
       "      <td>565.0</td>\n",
       "      <td>2.0</td>\n",
       "      <td>1</td>\n",
       "      <td>F</td>\n",
       "      <td>S</td>\n",
       "      <td>1091.0</td>\n",
       "      <td>teenager</td>\n",
       "    </tr>\n",
       "  </tbody>\n",
       "</table>\n",
       "</div>"
      ],
      "text/plain": [
       "  PassengerId HomePlanet CryoSleep  Destination   Age    VIP  RoomService  \\\n",
       "0     0001_01     Europa     False  TRAPPIST-1e  39.0  False          0.0   \n",
       "1     0002_01      Earth     False  TRAPPIST-1e  24.0  False        109.0   \n",
       "2     0003_01     Europa     False  TRAPPIST-1e  58.0   True         43.0   \n",
       "3     0003_02     Europa     False  TRAPPIST-1e  33.0  False          0.0   \n",
       "4     0004_01      Earth     False  TRAPPIST-1e  16.0  False        303.0   \n",
       "\n",
       "   FoodCourt  ShoppingMall     Spa  VRDeck  Transported deck side  \\\n",
       "0        0.0           0.0     0.0     0.0            0    B    P   \n",
       "1        9.0          25.0   549.0    44.0            1    F    S   \n",
       "2     3576.0           0.0  6715.0    49.0            0    A    S   \n",
       "3     1283.0         371.0  3329.0   193.0            0    A    S   \n",
       "4       70.0         151.0   565.0     2.0            1    F    S   \n",
       "\n",
       "   total_spent Age_Group  \n",
       "0          0.0     adult  \n",
       "1        736.0     adult  \n",
       "2      10383.0     older  \n",
       "3       5176.0     adult  \n",
       "4       1091.0  teenager  "
      ]
     },
     "execution_count": 11,
     "metadata": {},
     "output_type": "execute_result"
    }
   ],
   "source": [
    "# child : 0, teenager : 1, adult : 2, older : 3\n",
    "labels=['child', 'teenager', 'adult', 'older']\n",
    "bins = [0, 12, 21, 45, 80]\n",
    "train_data['Age_Group'] = pd.cut(train_data['Age'], bins=bins, labels=labels)\n",
    "test_data['Age_Group'] = pd.cut(test_data['Age'], bins=bins, labels=labels)\n",
    "train_data.head()"
   ]
  },
  {
   "cell_type": "code",
   "execution_count": 12,
   "id": "7e28f1c9",
   "metadata": {},
   "outputs": [
    {
     "data": {
      "text/plain": [
       "<AxesSubplot: >"
      ]
     },
     "execution_count": 12,
     "metadata": {},
     "output_type": "execute_result"
    },
    {
     "data": {
      "image/png": "[encoded data removed]",
      "text/plain": [
       "<Figure size 600x500 with 1 Axes>"
      ]
     },
     "metadata": {},
     "output_type": "display_data"
    }
   ],
   "source": [
    "plt.figure(figsize=(6,5 ))\n",
    "train_data['Age_Group'].value_counts().plot.bar(rot=0)"
   ]
  },
  {
   "cell_type": "code",
   "execution_count": 13,
   "id": "64accb72",
   "metadata": {},
   "outputs": [
    {
     "data": {
      "text/html": [
       "<div>\n",
       "<style scoped>\n",
       "    .dataframe tbody tr th:only-of-type {\n",
       "        vertical-align: middle;\n",
       "    }\n",
       "\n",
       "    .dataframe tbody tr th {\n",
       "        vertical-align: top;\n",
       "    }\n",
       "\n",
       "    .dataframe thead th {\n",
       "        text-align: right;\n",
       "    }\n",
       "</style>\n",
       "<table border=\"1\" class=\"dataframe\">\n",
       "  <thead>\n",
       "    <tr style=\"text-align: right;\">\n",
       "      <th></th>\n",
       "      <th>PassengerId</th>\n",
       "      <th>HomePlanet</th>\n",
       "      <th>CryoSleep</th>\n",
       "      <th>Destination</th>\n",
       "      <th>VIP</th>\n",
       "      <th>RoomService</th>\n",
       "      <th>FoodCourt</th>\n",
       "      <th>ShoppingMall</th>\n",
       "      <th>Spa</th>\n",
       "      <th>VRDeck</th>\n",
       "      <th>Transported</th>\n",
       "      <th>deck</th>\n",
       "      <th>side</th>\n",
       "      <th>total_spent</th>\n",
       "      <th>Age_Group</th>\n",
       "    </tr>\n",
       "  </thead>\n",
       "  <tbody>\n",
       "    <tr>\n",
       "      <th>0</th>\n",
       "      <td>0001_01</td>\n",
       "      <td>Europa</td>\n",
       "      <td>False</td>\n",
       "      <td>TRAPPIST-1e</td>\n",
       "      <td>False</td>\n",
       "      <td>0.0</td>\n",
       "      <td>0.0</td>\n",
       "      <td>0.0</td>\n",
       "      <td>0.0</td>\n",
       "      <td>0.0</td>\n",
       "      <td>0</td>\n",
       "      <td>B</td>\n",
       "      <td>P</td>\n",
       "      <td>0.0</td>\n",
       "      <td>adult</td>\n",
       "    </tr>\n",
       "    <tr>\n",
       "      <th>1</th>\n",
       "      <td>0002_01</td>\n",
       "      <td>Earth</td>\n",
       "      <td>False</td>\n",
       "      <td>TRAPPIST-1e</td>\n",
       "      <td>False</td>\n",
       "      <td>109.0</td>\n",
       "      <td>9.0</td>\n",
       "      <td>25.0</td>\n",
       "      <td>549.0</td>\n",
       "      <td>44.0</td>\n",
       "      <td>1</td>\n",
       "      <td>F</td>\n",
       "      <td>S</td>\n",
       "      <td>736.0</td>\n",
       "      <td>adult</td>\n",
       "    </tr>\n",
       "    <tr>\n",
       "      <th>2</th>\n",
       "      <td>0003_01</td>\n",
       "      <td>Europa</td>\n",
       "      <td>False</td>\n",
       "      <td>TRAPPIST-1e</td>\n",
       "      <td>True</td>\n",
       "      <td>43.0</td>\n",
       "      <td>3576.0</td>\n",
       "      <td>0.0</td>\n",
       "      <td>6715.0</td>\n",
       "      <td>49.0</td>\n",
       "      <td>0</td>\n",
       "      <td>A</td>\n",
       "      <td>S</td>\n",
       "      <td>10383.0</td>\n",
       "      <td>older</td>\n",
       "    </tr>\n",
       "    <tr>\n",
       "      <th>3</th>\n",
       "      <td>0003_02</td>\n",
       "      <td>Europa</td>\n",
       "      <td>False</td>\n",
       "      <td>TRAPPIST-1e</td>\n",
       "      <td>False</td>\n",
       "      <td>0.0</td>\n",
       "      <td>1283.0</td>\n",
       "      <td>371.0</td>\n",
       "      <td>3329.0</td>\n",
       "      <td>193.0</td>\n",
       "      <td>0</td>\n",
       "      <td>A</td>\n",
       "      <td>S</td>\n",
       "      <td>5176.0</td>\n",
       "      <td>adult</td>\n",
       "    </tr>\n",
       "    <tr>\n",
       "      <th>4</th>\n",
       "      <td>0004_01</td>\n",
       "      <td>Earth</td>\n",
       "      <td>False</td>\n",
       "      <td>TRAPPIST-1e</td>\n",
       "      <td>False</td>\n",
       "      <td>303.0</td>\n",
       "      <td>70.0</td>\n",
       "      <td>151.0</td>\n",
       "      <td>565.0</td>\n",
       "      <td>2.0</td>\n",
       "      <td>1</td>\n",
       "      <td>F</td>\n",
       "      <td>S</td>\n",
       "      <td>1091.0</td>\n",
       "      <td>teenager</td>\n",
       "    </tr>\n",
       "  </tbody>\n",
       "</table>\n",
       "</div>"
      ],
      "text/plain": [
       "  PassengerId HomePlanet CryoSleep  Destination    VIP  RoomService  \\\n",
       "0     0001_01     Europa     False  TRAPPIST-1e  False          0.0   \n",
       "1     0002_01      Earth     False  TRAPPIST-1e  False        109.0   \n",
       "2     0003_01     Europa     False  TRAPPIST-1e   True         43.0   \n",
       "3     0003_02     Europa     False  TRAPPIST-1e  False          0.0   \n",
       "4     0004_01      Earth     False  TRAPPIST-1e  False        303.0   \n",
       "\n",
       "   FoodCourt  ShoppingMall     Spa  VRDeck  Transported deck side  \\\n",
       "0        0.0           0.0     0.0     0.0            0    B    P   \n",
       "1        9.0          25.0   549.0    44.0            1    F    S   \n",
       "2     3576.0           0.0  6715.0    49.0            0    A    S   \n",
       "3     1283.0         371.0  3329.0   193.0            0    A    S   \n",
       "4       70.0         151.0   565.0     2.0            1    F    S   \n",
       "\n",
       "   total_spent Age_Group  \n",
       "0          0.0     adult  \n",
       "1        736.0     adult  \n",
       "2      10383.0     older  \n",
       "3       5176.0     adult  \n",
       "4       1091.0  teenager  "
      ]
     },
     "execution_count": 13,
     "metadata": {},
     "output_type": "execute_result"
    }
   ],
   "source": [
    "train_data = train_data.drop(\"Age\", axis=1)\n",
    "test_data = test_data.drop(\"Age\", axis=1)\n",
    "\n",
    "train_data.head()"
   ]
  },
  {
   "cell_type": "code",
   "execution_count": 14,
   "id": "d1504d88",
   "metadata": {},
   "outputs": [
    {
     "name": "stderr",
     "output_type": "stream",
     "text": [
      "/tmp/ipykernel_2497/414063447.py:1: FutureWarning: In a future version of pandas all arguments of StringMethods.split except for the argument 'pat' will be keyword-only.\n",
      "  train_data['Passenger_Group'] = train_data['PassengerId'].str.split('_', 1, expand=True)[1].astype(int)\n",
      "/tmp/ipykernel_2497/414063447.py:2: FutureWarning: In a future version of pandas all arguments of StringMethods.split except for the argument 'pat' will be keyword-only.\n",
      "  test_data['Passenger_Group'] = test_data['PassengerId'].str.split('_', 1, expand=True)[1].astype(int)\n"
     ]
    }
   ],
   "source": [
    "train_data['Passenger_Group'] = train_data['PassengerId'].str.split('_', 1, expand=True)[1].astype(int)\n",
    "test_data['Passenger_Group'] = test_data['PassengerId'].str.split('_', 1, expand=True)[1].astype(int)\n",
    "\n",
    "train_data.set_index('PassengerId',inplace=True)\n",
    "test_data.set_index('PassengerId',inplace=True)\n",
    "\n",
    "# train_data = train_data.drop(\"PassengerId\", axis = 1)\n",
    "# test_data = test_data.drop(\"PassengerId\", axis = 1)"
   ]
  },
  {
   "cell_type": "code",
   "execution_count": 15,
   "id": "36d7f5c7",
   "metadata": {},
   "outputs": [
    {
     "data": {
      "text/html": [
       "<div>\n",
       "<style scoped>\n",
       "    .dataframe tbody tr th:only-of-type {\n",
       "        vertical-align: middle;\n",
       "    }\n",
       "\n",
       "    .dataframe tbody tr th {\n",
       "        vertical-align: top;\n",
       "    }\n",
       "\n",
       "    .dataframe thead th {\n",
       "        text-align: right;\n",
       "    }\n",
       "</style>\n",
       "<table border=\"1\" class=\"dataframe\">\n",
       "  <thead>\n",
       "    <tr style=\"text-align: right;\">\n",
       "      <th></th>\n",
       "      <th>HomePlanet</th>\n",
       "      <th>CryoSleep</th>\n",
       "      <th>Destination</th>\n",
       "      <th>VIP</th>\n",
       "      <th>RoomService</th>\n",
       "      <th>FoodCourt</th>\n",
       "      <th>ShoppingMall</th>\n",
       "      <th>Spa</th>\n",
       "      <th>VRDeck</th>\n",
       "      <th>Transported</th>\n",
       "      <th>deck</th>\n",
       "      <th>side</th>\n",
       "      <th>total_spent</th>\n",
       "      <th>Age_Group</th>\n",
       "      <th>Passenger_Group</th>\n",
       "    </tr>\n",
       "    <tr>\n",
       "      <th>PassengerId</th>\n",
       "      <th></th>\n",
       "      <th></th>\n",
       "      <th></th>\n",
       "      <th></th>\n",
       "      <th></th>\n",
       "      <th></th>\n",
       "      <th></th>\n",
       "      <th></th>\n",
       "      <th></th>\n",
       "      <th></th>\n",
       "      <th></th>\n",
       "      <th></th>\n",
       "      <th></th>\n",
       "      <th></th>\n",
       "      <th></th>\n",
       "    </tr>\n",
       "  </thead>\n",
       "  <tbody>\n",
       "    <tr>\n",
       "      <th>0001_01</th>\n",
       "      <td>Europa</td>\n",
       "      <td>False</td>\n",
       "      <td>TRAPPIST-1e</td>\n",
       "      <td>False</td>\n",
       "      <td>0.0</td>\n",
       "      <td>0.0</td>\n",
       "      <td>0.0</td>\n",
       "      <td>0.0</td>\n",
       "      <td>0.0</td>\n",
       "      <td>0</td>\n",
       "      <td>B</td>\n",
       "      <td>P</td>\n",
       "      <td>0.0</td>\n",
       "      <td>adult</td>\n",
       "      <td>1</td>\n",
       "    </tr>\n",
       "    <tr>\n",
       "      <th>0002_01</th>\n",
       "      <td>Earth</td>\n",
       "      <td>False</td>\n",
       "      <td>TRAPPIST-1e</td>\n",
       "      <td>False</td>\n",
       "      <td>109.0</td>\n",
       "      <td>9.0</td>\n",
       "      <td>25.0</td>\n",
       "      <td>549.0</td>\n",
       "      <td>44.0</td>\n",
       "      <td>1</td>\n",
       "      <td>F</td>\n",
       "      <td>S</td>\n",
       "      <td>736.0</td>\n",
       "      <td>adult</td>\n",
       "      <td>1</td>\n",
       "    </tr>\n",
       "    <tr>\n",
       "      <th>0003_01</th>\n",
       "      <td>Europa</td>\n",
       "      <td>False</td>\n",
       "      <td>TRAPPIST-1e</td>\n",
       "      <td>True</td>\n",
       "      <td>43.0</td>\n",
       "      <td>3576.0</td>\n",
       "      <td>0.0</td>\n",
       "      <td>6715.0</td>\n",
       "      <td>49.0</td>\n",
       "      <td>0</td>\n",
       "      <td>A</td>\n",
       "      <td>S</td>\n",
       "      <td>10383.0</td>\n",
       "      <td>older</td>\n",
       "      <td>1</td>\n",
       "    </tr>\n",
       "    <tr>\n",
       "      <th>0003_02</th>\n",
       "      <td>Europa</td>\n",
       "      <td>False</td>\n",
       "      <td>TRAPPIST-1e</td>\n",
       "      <td>False</td>\n",
       "      <td>0.0</td>\n",
       "      <td>1283.0</td>\n",
       "      <td>371.0</td>\n",
       "      <td>3329.0</td>\n",
       "      <td>193.0</td>\n",
       "      <td>0</td>\n",
       "      <td>A</td>\n",
       "      <td>S</td>\n",
       "      <td>5176.0</td>\n",
       "      <td>adult</td>\n",
       "      <td>2</td>\n",
       "    </tr>\n",
       "    <tr>\n",
       "      <th>0004_01</th>\n",
       "      <td>Earth</td>\n",
       "      <td>False</td>\n",
       "      <td>TRAPPIST-1e</td>\n",
       "      <td>False</td>\n",
       "      <td>303.0</td>\n",
       "      <td>70.0</td>\n",
       "      <td>151.0</td>\n",
       "      <td>565.0</td>\n",
       "      <td>2.0</td>\n",
       "      <td>1</td>\n",
       "      <td>F</td>\n",
       "      <td>S</td>\n",
       "      <td>1091.0</td>\n",
       "      <td>teenager</td>\n",
       "      <td>1</td>\n",
       "    </tr>\n",
       "  </tbody>\n",
       "</table>\n",
       "</div>"
      ],
      "text/plain": [
       "            HomePlanet CryoSleep  Destination    VIP  RoomService  FoodCourt  \\\n",
       "PassengerId                                                                    \n",
       "0001_01         Europa     False  TRAPPIST-1e  False          0.0        0.0   \n",
       "0002_01          Earth     False  TRAPPIST-1e  False        109.0        9.0   \n",
       "0003_01         Europa     False  TRAPPIST-1e   True         43.0     3576.0   \n",
       "0003_02         Europa     False  TRAPPIST-1e  False          0.0     1283.0   \n",
       "0004_01          Earth     False  TRAPPIST-1e  False        303.0       70.0   \n",
       "\n",
       "             ShoppingMall     Spa  VRDeck  Transported deck side  total_spent  \\\n",
       "PassengerId                                                                     \n",
       "0001_01               0.0     0.0     0.0            0    B    P          0.0   \n",
       "0002_01              25.0   549.0    44.0            1    F    S        736.0   \n",
       "0003_01               0.0  6715.0    49.0            0    A    S      10383.0   \n",
       "0003_02             371.0  3329.0   193.0            0    A    S       5176.0   \n",
       "0004_01             151.0   565.0     2.0            1    F    S       1091.0   \n",
       "\n",
       "            Age_Group  Passenger_Group  \n",
       "PassengerId                             \n",
       "0001_01         adult                1  \n",
       "0002_01         adult                1  \n",
       "0003_01         older                1  \n",
       "0003_02         adult                2  \n",
       "0004_01      teenager                1  "
      ]
     },
     "execution_count": 15,
     "metadata": {},
     "output_type": "execute_result"
    }
   ],
   "source": [
    "train_data.head()"
   ]
  },
  {
   "cell_type": "markdown",
   "id": "b7c44529",
   "metadata": {},
   "source": [
    "### Outliers detection"
   ]
  },
  {
   "cell_type": "code",
   "execution_count": 16,
   "id": "29aff026",
   "metadata": {},
   "outputs": [
    {
     "data": {
      "image/png": "[encoded data removed]",
      "text/plain": [
       "<Figure size 2000x1500 with 25 Axes>"
      ]
     },
     "metadata": {},
     "output_type": "display_data"
    }
   ],
   "source": [
    "train_data.plot(kind = \"box\" , subplots = True , layout= (5,5), figsize =(20,15) )\n",
    "plt.show()"
   ]
  },
  {
   "cell_type": "code",
   "execution_count": 17,
   "id": "75a2b681",
   "metadata": {},
   "outputs": [
    {
     "data": {
      "text/plain": [
       "<AxesSubplot: >"
      ]
     },
     "execution_count": 17,
     "metadata": {},
     "output_type": "execute_result"
    },
    {
     "data": {
      "image/png": "[encoded data removed]",
      "text/plain": [
       "<Figure size 600x400 with 1 Axes>"
      ]
     },
     "metadata": {},
     "output_type": "display_data"
    }
   ],
   "source": [
    "sns.boxplot(data=train_data[[\"RoomService\",\"FoodCourt\",\"ShoppingMall\",\"Spa\",\"VRDeck\"]])"
   ]
  },
  {
   "cell_type": "markdown",
   "id": "cd1b485d",
   "metadata": {},
   "source": [
    "###  Imputing Missing Values\n",
    "\n",
    "\n",
    "We are using Simple Imputer to fill the na values with the specified strategy.\n",
    "\n",
    "For ['HomePlanet', 'CryoSleep', 'Destination', 'VIP', 'deck', 'side', 'Age_Group'] we use the strategy most_frequent as it is categorical data.\n",
    "\n",
    "For ['RoomService', 'FoodCourt', 'ShoppingMall', 'Spa', 'VRDeck', 'total_spent'] we use the strategy median as it is numeric data.\n"
   ]
  },
  {
   "cell_type": "code",
   "execution_count": 18,
   "id": "5420cd99",
   "metadata": {},
   "outputs": [
    {
     "name": "stdout",
     "output_type": "stream",
     "text": [
      "Categorical cols -- ['HomePlanet', 'CryoSleep', 'Destination', 'VIP', 'deck', 'side', 'Age_Group']\n",
      "Numeric cols -- ['RoomService', 'FoodCourt', 'ShoppingMall', 'Spa', 'VRDeck', 'total_spent']\n"
     ]
    }
   ],
   "source": [
    "categorical_cols = [col for col in train_data.columns if train_data[col].dtype == 'object' or train_data[col].dtype == 'category']\n",
    "numeric_cols = [col for col in train_data.columns if train_data[col].dtype == 'float64']\n",
    "\n",
    "print(f'Categorical cols -- {categorical_cols}')\n",
    "print(f'Numeric cols -- {numeric_cols}')"
   ]
  },
  {
   "cell_type": "code",
   "execution_count": 19,
   "id": "1b6adee8",
   "metadata": {},
   "outputs": [],
   "source": [
    "train_data[categorical_cols] = train_data[categorical_cols].astype('category')\n",
    "test_data[categorical_cols] = test_data[categorical_cols].astype('category')"
   ]
  },
  {
   "cell_type": "code",
   "execution_count": 20,
   "id": "fcb5c694",
   "metadata": {},
   "outputs": [],
   "source": [
    "from sklearn.preprocessing import OrdinalEncoder\n",
    "\n",
    "oc = OrdinalEncoder()\n",
    "data_for_encode = pd.concat([train_data, test_data])\n",
    "data_for_encode[categorical_cols] = data_for_encode[categorical_cols].astype('category')\n",
    "data_for_encode[categorical_cols] = oc.fit_transform(data_for_encode[categorical_cols])\n",
    "\n",
    "del train_data, test_data\n",
    "\n",
    "train_data = data_for_encode.iloc[:8693, :]\n",
    "test_data = data_for_encode.iloc[8693: , :]\n",
    "\n",
    "del data_for_encode\n",
    "\n",
    "test_data.drop('Transported', inplace=True, axis=1)"
   ]
  },
  {
   "cell_type": "code",
   "execution_count": 21,
   "id": "e6f27ee1",
   "metadata": {},
   "outputs": [],
   "source": [
    "from sklearn.impute import SimpleImputer\n",
    "from sklearn.compose import ColumnTransformer\n",
    "\n",
    "ctc = ColumnTransformer([(\"imp\", SimpleImputer(strategy='most_frequent'), categorical_cols)])\n",
    "    \n",
    "train_data[categorical_cols] = ctc.fit_transform(train_data[categorical_cols])\n",
    "test_data[categorical_cols] = ctc.fit_transform(test_data[categorical_cols])\n",
    "\n",
    "ctn = ColumnTransformer([(\"imp\", SimpleImputer(strategy='median'), numeric_cols)])\n",
    "\n",
    "train_data[numeric_cols] = ctn.fit_transform(train_data[numeric_cols])\n",
    "test_data[numeric_cols] = ctn.fit_transform(test_data[numeric_cols])\n",
    "\n",
    "train_data[\"Transported\"].fillna(method='ffill', inplace = True)"
   ]
  },
  {
   "cell_type": "code",
   "execution_count": 22,
   "id": "d904a910",
   "metadata": {},
   "outputs": [
    {
     "data": {
      "text/html": [
       "<div>\n",
       "<style scoped>\n",
       "    .dataframe tbody tr th:only-of-type {\n",
       "        vertical-align: middle;\n",
       "    }\n",
       "\n",
       "    .dataframe tbody tr th {\n",
       "        vertical-align: top;\n",
       "    }\n",
       "\n",
       "    .dataframe thead th {\n",
       "        text-align: right;\n",
       "    }\n",
       "</style>\n",
       "<table border=\"1\" class=\"dataframe\">\n",
       "  <thead>\n",
       "    <tr style=\"text-align: right;\">\n",
       "      <th></th>\n",
       "      <th>HomePlanet</th>\n",
       "      <th>CryoSleep</th>\n",
       "      <th>Destination</th>\n",
       "      <th>VIP</th>\n",
       "      <th>RoomService</th>\n",
       "      <th>FoodCourt</th>\n",
       "      <th>ShoppingMall</th>\n",
       "      <th>Spa</th>\n",
       "      <th>VRDeck</th>\n",
       "      <th>Transported</th>\n",
       "      <th>deck</th>\n",
       "      <th>side</th>\n",
       "      <th>total_spent</th>\n",
       "      <th>Age_Group</th>\n",
       "      <th>Passenger_Group</th>\n",
       "    </tr>\n",
       "    <tr>\n",
       "      <th>PassengerId</th>\n",
       "      <th></th>\n",
       "      <th></th>\n",
       "      <th></th>\n",
       "      <th></th>\n",
       "      <th></th>\n",
       "      <th></th>\n",
       "      <th></th>\n",
       "      <th></th>\n",
       "      <th></th>\n",
       "      <th></th>\n",
       "      <th></th>\n",
       "      <th></th>\n",
       "      <th></th>\n",
       "      <th></th>\n",
       "      <th></th>\n",
       "    </tr>\n",
       "  </thead>\n",
       "  <tbody>\n",
       "    <tr>\n",
       "      <th>0001_01</th>\n",
       "      <td>1.0</td>\n",
       "      <td>0.0</td>\n",
       "      <td>2.0</td>\n",
       "      <td>0.0</td>\n",
       "      <td>0.0</td>\n",
       "      <td>0.0</td>\n",
       "      <td>0.0</td>\n",
       "      <td>0.0</td>\n",
       "      <td>0.0</td>\n",
       "      <td>0.0</td>\n",
       "      <td>1.0</td>\n",
       "      <td>0.0</td>\n",
       "      <td>0.0</td>\n",
       "      <td>0.0</td>\n",
       "      <td>1</td>\n",
       "    </tr>\n",
       "    <tr>\n",
       "      <th>0002_01</th>\n",
       "      <td>0.0</td>\n",
       "      <td>0.0</td>\n",
       "      <td>2.0</td>\n",
       "      <td>0.0</td>\n",
       "      <td>109.0</td>\n",
       "      <td>9.0</td>\n",
       "      <td>25.0</td>\n",
       "      <td>549.0</td>\n",
       "      <td>44.0</td>\n",
       "      <td>1.0</td>\n",
       "      <td>5.0</td>\n",
       "      <td>1.0</td>\n",
       "      <td>736.0</td>\n",
       "      <td>0.0</td>\n",
       "      <td>1</td>\n",
       "    </tr>\n",
       "    <tr>\n",
       "      <th>0003_01</th>\n",
       "      <td>1.0</td>\n",
       "      <td>0.0</td>\n",
       "      <td>2.0</td>\n",
       "      <td>1.0</td>\n",
       "      <td>43.0</td>\n",
       "      <td>3576.0</td>\n",
       "      <td>0.0</td>\n",
       "      <td>6715.0</td>\n",
       "      <td>49.0</td>\n",
       "      <td>0.0</td>\n",
       "      <td>0.0</td>\n",
       "      <td>1.0</td>\n",
       "      <td>10383.0</td>\n",
       "      <td>2.0</td>\n",
       "      <td>1</td>\n",
       "    </tr>\n",
       "    <tr>\n",
       "      <th>0003_02</th>\n",
       "      <td>1.0</td>\n",
       "      <td>0.0</td>\n",
       "      <td>2.0</td>\n",
       "      <td>0.0</td>\n",
       "      <td>0.0</td>\n",
       "      <td>1283.0</td>\n",
       "      <td>371.0</td>\n",
       "      <td>3329.0</td>\n",
       "      <td>193.0</td>\n",
       "      <td>0.0</td>\n",
       "      <td>0.0</td>\n",
       "      <td>1.0</td>\n",
       "      <td>5176.0</td>\n",
       "      <td>0.0</td>\n",
       "      <td>2</td>\n",
       "    </tr>\n",
       "    <tr>\n",
       "      <th>0004_01</th>\n",
       "      <td>0.0</td>\n",
       "      <td>0.0</td>\n",
       "      <td>2.0</td>\n",
       "      <td>0.0</td>\n",
       "      <td>303.0</td>\n",
       "      <td>70.0</td>\n",
       "      <td>151.0</td>\n",
       "      <td>565.0</td>\n",
       "      <td>2.0</td>\n",
       "      <td>1.0</td>\n",
       "      <td>5.0</td>\n",
       "      <td>1.0</td>\n",
       "      <td>1091.0</td>\n",
       "      <td>3.0</td>\n",
       "      <td>1</td>\n",
       "    </tr>\n",
       "  </tbody>\n",
       "</table>\n",
       "</div>"
      ],
      "text/plain": [
       "             HomePlanet  CryoSleep  Destination  VIP  RoomService  FoodCourt  \\\n",
       "PassengerId                                                                    \n",
       "0001_01             1.0        0.0          2.0  0.0          0.0        0.0   \n",
       "0002_01             0.0        0.0          2.0  0.0        109.0        9.0   \n",
       "0003_01             1.0        0.0          2.0  1.0         43.0     3576.0   \n",
       "0003_02             1.0        0.0          2.0  0.0          0.0     1283.0   \n",
       "0004_01             0.0        0.0          2.0  0.0        303.0       70.0   \n",
       "\n",
       "             ShoppingMall     Spa  VRDeck  Transported  deck  side  \\\n",
       "PassengerId                                                          \n",
       "0001_01               0.0     0.0     0.0          0.0   1.0   0.0   \n",
       "0002_01              25.0   549.0    44.0          1.0   5.0   1.0   \n",
       "0003_01               0.0  6715.0    49.0          0.0   0.0   1.0   \n",
       "0003_02             371.0  3329.0   193.0          0.0   0.0   1.0   \n",
       "0004_01             151.0   565.0     2.0          1.0   5.0   1.0   \n",
       "\n",
       "             total_spent  Age_Group  Passenger_Group  \n",
       "PassengerId                                           \n",
       "0001_01              0.0        0.0                1  \n",
       "0002_01            736.0        0.0                1  \n",
       "0003_01          10383.0        2.0                1  \n",
       "0003_02           5176.0        0.0                2  \n",
       "0004_01           1091.0        3.0                1  "
      ]
     },
     "execution_count": 22,
     "metadata": {},
     "output_type": "execute_result"
    }
   ],
   "source": [
    "train_data.head()"
   ]
  },
  {
   "cell_type": "code",
   "execution_count": 26,
   "id": "97586fdd",
   "metadata": {},
   "outputs": [],
   "source": [
    "from sklearn.preprocessing import StandardScaler\n",
    "\n",
    "scaler = StandardScaler()\n",
    "\n",
    "train_data[numeric_cols] = scaler.fit_transform(train_data[numeric_cols])\n",
    "test_data[numeric_cols] = scaler.fit_transform(test_data[numeric_cols])\n"
   ]
  },
  {
   "cell_type": "code",
   "execution_count": 27,
   "id": "318b1a47",
   "metadata": {},
   "outputs": [
    {
     "data": {
      "text/html": [
       "<div>\n",
       "<style scoped>\n",
       "    .dataframe tbody tr th:only-of-type {\n",
       "        vertical-align: middle;\n",
       "    }\n",
       "\n",
       "    .dataframe tbody tr th {\n",
       "        vertical-align: top;\n",
       "    }\n",
       "\n",
       "    .dataframe thead th {\n",
       "        text-align: right;\n",
       "    }\n",
       "</style>\n",
       "<table border=\"1\" class=\"dataframe\">\n",
       "  <thead>\n",
       "    <tr style=\"text-align: right;\">\n",
       "      <th></th>\n",
       "      <th>HomePlanet</th>\n",
       "      <th>CryoSleep</th>\n",
       "      <th>Destination</th>\n",
       "      <th>VIP</th>\n",
       "      <th>RoomService</th>\n",
       "      <th>FoodCourt</th>\n",
       "      <th>ShoppingMall</th>\n",
       "      <th>Spa</th>\n",
       "      <th>VRDeck</th>\n",
       "      <th>Transported</th>\n",
       "      <th>deck</th>\n",
       "      <th>side</th>\n",
       "      <th>total_spent</th>\n",
       "      <th>Age_Group</th>\n",
       "      <th>Passenger_Group</th>\n",
       "    </tr>\n",
       "    <tr>\n",
       "      <th>PassengerId</th>\n",
       "      <th></th>\n",
       "      <th></th>\n",
       "      <th></th>\n",
       "      <th></th>\n",
       "      <th></th>\n",
       "      <th></th>\n",
       "      <th></th>\n",
       "      <th></th>\n",
       "      <th></th>\n",
       "      <th></th>\n",
       "      <th></th>\n",
       "      <th></th>\n",
       "      <th></th>\n",
       "      <th></th>\n",
       "      <th></th>\n",
       "    </tr>\n",
       "  </thead>\n",
       "  <tbody>\n",
       "    <tr>\n",
       "      <th>0001_01</th>\n",
       "      <td>1.0</td>\n",
       "      <td>0.0</td>\n",
       "      <td>2.0</td>\n",
       "      <td>0.0</td>\n",
       "      <td>-0.333105</td>\n",
       "      <td>-0.281027</td>\n",
       "      <td>-0.283579</td>\n",
       "      <td>-0.270626</td>\n",
       "      <td>-0.263003</td>\n",
       "      <td>0.0</td>\n",
       "      <td>1.0</td>\n",
       "      <td>0.0</td>\n",
       "      <td>-0.514066</td>\n",
       "      <td>0.0</td>\n",
       "      <td>1</td>\n",
       "    </tr>\n",
       "    <tr>\n",
       "      <th>0002_01</th>\n",
       "      <td>0.0</td>\n",
       "      <td>0.0</td>\n",
       "      <td>2.0</td>\n",
       "      <td>0.0</td>\n",
       "      <td>-0.168073</td>\n",
       "      <td>-0.275387</td>\n",
       "      <td>-0.241771</td>\n",
       "      <td>0.217158</td>\n",
       "      <td>-0.224205</td>\n",
       "      <td>1.0</td>\n",
       "      <td>5.0</td>\n",
       "      <td>1.0</td>\n",
       "      <td>-0.251479</td>\n",
       "      <td>0.0</td>\n",
       "      <td>1</td>\n",
       "    </tr>\n",
       "    <tr>\n",
       "      <th>0003_01</th>\n",
       "      <td>1.0</td>\n",
       "      <td>0.0</td>\n",
       "      <td>2.0</td>\n",
       "      <td>1.0</td>\n",
       "      <td>-0.268001</td>\n",
       "      <td>1.959998</td>\n",
       "      <td>-0.283579</td>\n",
       "      <td>5.695623</td>\n",
       "      <td>-0.219796</td>\n",
       "      <td>0.0</td>\n",
       "      <td>0.0</td>\n",
       "      <td>1.0</td>\n",
       "      <td>3.190333</td>\n",
       "      <td>2.0</td>\n",
       "      <td>1</td>\n",
       "    </tr>\n",
       "    <tr>\n",
       "      <th>0003_02</th>\n",
       "      <td>1.0</td>\n",
       "      <td>0.0</td>\n",
       "      <td>2.0</td>\n",
       "      <td>0.0</td>\n",
       "      <td>-0.333105</td>\n",
       "      <td>0.523010</td>\n",
       "      <td>0.336851</td>\n",
       "      <td>2.687176</td>\n",
       "      <td>-0.092818</td>\n",
       "      <td>0.0</td>\n",
       "      <td>0.0</td>\n",
       "      <td>1.0</td>\n",
       "      <td>1.332604</td>\n",
       "      <td>0.0</td>\n",
       "      <td>2</td>\n",
       "    </tr>\n",
       "    <tr>\n",
       "      <th>0004_01</th>\n",
       "      <td>0.0</td>\n",
       "      <td>0.0</td>\n",
       "      <td>2.0</td>\n",
       "      <td>0.0</td>\n",
       "      <td>0.125652</td>\n",
       "      <td>-0.237159</td>\n",
       "      <td>-0.031059</td>\n",
       "      <td>0.231374</td>\n",
       "      <td>-0.261240</td>\n",
       "      <td>1.0</td>\n",
       "      <td>5.0</td>\n",
       "      <td>1.0</td>\n",
       "      <td>-0.124824</td>\n",
       "      <td>3.0</td>\n",
       "      <td>1</td>\n",
       "    </tr>\n",
       "  </tbody>\n",
       "</table>\n",
       "</div>"
      ],
      "text/plain": [
       "             HomePlanet  CryoSleep  Destination  VIP  RoomService  FoodCourt  \\\n",
       "PassengerId                                                                    \n",
       "0001_01             1.0        0.0          2.0  0.0    -0.333105  -0.281027   \n",
       "0002_01             0.0        0.0          2.0  0.0    -0.168073  -0.275387   \n",
       "0003_01             1.0        0.0          2.0  1.0    -0.268001   1.959998   \n",
       "0003_02             1.0        0.0          2.0  0.0    -0.333105   0.523010   \n",
       "0004_01             0.0        0.0          2.0  0.0     0.125652  -0.237159   \n",
       "\n",
       "             ShoppingMall       Spa    VRDeck  Transported  deck  side  \\\n",
       "PassengerId                                                              \n",
       "0001_01         -0.283579 -0.270626 -0.263003          0.0   1.0   0.0   \n",
       "0002_01         -0.241771  0.217158 -0.224205          1.0   5.0   1.0   \n",
       "0003_01         -0.283579  5.695623 -0.219796          0.0   0.0   1.0   \n",
       "0003_02          0.336851  2.687176 -0.092818          0.0   0.0   1.0   \n",
       "0004_01         -0.031059  0.231374 -0.261240          1.0   5.0   1.0   \n",
       "\n",
       "             total_spent  Age_Group  Passenger_Group  \n",
       "PassengerId                                           \n",
       "0001_01        -0.514066        0.0                1  \n",
       "0002_01        -0.251479        0.0                1  \n",
       "0003_01         3.190333        2.0                1  \n",
       "0003_02         1.332604        0.0                2  \n",
       "0004_01        -0.124824        3.0                1  "
      ]
     },
     "execution_count": 27,
     "metadata": {},
     "output_type": "execute_result"
    }
   ],
   "source": [
    "train_data.head()"
   ]
  },
  {
   "cell_type": "code",
   "execution_count": 28,
   "id": "f7d844b5",
   "metadata": {},
   "outputs": [
    {
     "data": {
      "text/html": [
       "<div>\n",
       "<style scoped>\n",
       "    .dataframe tbody tr th:only-of-type {\n",
       "        vertical-align: middle;\n",
       "    }\n",
       "\n",
       "    .dataframe tbody tr th {\n",
       "        vertical-align: top;\n",
       "    }\n",
       "\n",
       "    .dataframe thead th {\n",
       "        text-align: right;\n",
       "    }\n",
       "</style>\n",
       "<table border=\"1\" class=\"dataframe\">\n",
       "  <thead>\n",
       "    <tr style=\"text-align: right;\">\n",
       "      <th></th>\n",
       "      <th>HomePlanet</th>\n",
       "      <th>CryoSleep</th>\n",
       "      <th>Destination</th>\n",
       "      <th>VIP</th>\n",
       "      <th>RoomService</th>\n",
       "      <th>FoodCourt</th>\n",
       "      <th>ShoppingMall</th>\n",
       "      <th>Spa</th>\n",
       "      <th>VRDeck</th>\n",
       "      <th>deck</th>\n",
       "      <th>side</th>\n",
       "      <th>total_spent</th>\n",
       "      <th>Age_Group</th>\n",
       "      <th>Passenger_Group</th>\n",
       "    </tr>\n",
       "    <tr>\n",
       "      <th>PassengerId</th>\n",
       "      <th></th>\n",
       "      <th></th>\n",
       "      <th></th>\n",
       "      <th></th>\n",
       "      <th></th>\n",
       "      <th></th>\n",
       "      <th></th>\n",
       "      <th></th>\n",
       "      <th></th>\n",
       "      <th></th>\n",
       "      <th></th>\n",
       "      <th></th>\n",
       "      <th></th>\n",
       "      <th></th>\n",
       "    </tr>\n",
       "  </thead>\n",
       "  <tbody>\n",
       "    <tr>\n",
       "      <th>0013_01</th>\n",
       "      <td>0.0</td>\n",
       "      <td>1.0</td>\n",
       "      <td>2.0</td>\n",
       "      <td>0.0</td>\n",
       "      <td>-0.357339</td>\n",
       "      <td>-0.283840</td>\n",
       "      <td>-0.312173</td>\n",
       "      <td>-0.267841</td>\n",
       "      <td>-0.246712</td>\n",
       "      <td>6.0</td>\n",
       "      <td>1.0</td>\n",
       "      <td>-0.503425</td>\n",
       "      <td>0.0</td>\n",
       "      <td>1</td>\n",
       "    </tr>\n",
       "    <tr>\n",
       "      <th>0018_01</th>\n",
       "      <td>0.0</td>\n",
       "      <td>0.0</td>\n",
       "      <td>2.0</td>\n",
       "      <td>0.0</td>\n",
       "      <td>-0.357339</td>\n",
       "      <td>-0.277879</td>\n",
       "      <td>-0.312173</td>\n",
       "      <td>2.287504</td>\n",
       "      <td>-0.246712</td>\n",
       "      <td>5.0</td>\n",
       "      <td>1.0</td>\n",
       "      <td>0.502231</td>\n",
       "      <td>3.0</td>\n",
       "      <td>1</td>\n",
       "    </tr>\n",
       "    <tr>\n",
       "      <th>0019_01</th>\n",
       "      <td>1.0</td>\n",
       "      <td>1.0</td>\n",
       "      <td>0.0</td>\n",
       "      <td>0.0</td>\n",
       "      <td>-0.357339</td>\n",
       "      <td>-0.283840</td>\n",
       "      <td>-0.312173</td>\n",
       "      <td>-0.267841</td>\n",
       "      <td>-0.246712</td>\n",
       "      <td>2.0</td>\n",
       "      <td>1.0</td>\n",
       "      <td>-0.503425</td>\n",
       "      <td>0.0</td>\n",
       "      <td>1</td>\n",
       "    </tr>\n",
       "    <tr>\n",
       "      <th>0021_01</th>\n",
       "      <td>1.0</td>\n",
       "      <td>0.0</td>\n",
       "      <td>2.0</td>\n",
       "      <td>0.0</td>\n",
       "      <td>-0.357339</td>\n",
       "      <td>4.121518</td>\n",
       "      <td>-0.312173</td>\n",
       "      <td>-0.104002</td>\n",
       "      <td>0.226648</td>\n",
       "      <td>2.0</td>\n",
       "      <td>1.0</td>\n",
       "      <td>2.130740</td>\n",
       "      <td>0.0</td>\n",
       "      <td>1</td>\n",
       "    </tr>\n",
       "    <tr>\n",
       "      <th>0023_01</th>\n",
       "      <td>0.0</td>\n",
       "      <td>0.0</td>\n",
       "      <td>2.0</td>\n",
       "      <td>0.0</td>\n",
       "      <td>-0.340723</td>\n",
       "      <td>-0.283840</td>\n",
       "      <td>0.832122</td>\n",
       "      <td>-0.267841</td>\n",
       "      <td>-0.246712</td>\n",
       "      <td>5.0</td>\n",
       "      <td>1.0</td>\n",
       "      <td>-0.274383</td>\n",
       "      <td>3.0</td>\n",
       "      <td>1</td>\n",
       "    </tr>\n",
       "  </tbody>\n",
       "</table>\n",
       "</div>"
      ],
      "text/plain": [
       "             HomePlanet  CryoSleep  Destination  VIP  RoomService  FoodCourt  \\\n",
       "PassengerId                                                                    \n",
       "0013_01             0.0        1.0          2.0  0.0    -0.357339  -0.283840   \n",
       "0018_01             0.0        0.0          2.0  0.0    -0.357339  -0.277879   \n",
       "0019_01             1.0        1.0          0.0  0.0    -0.357339  -0.283840   \n",
       "0021_01             1.0        0.0          2.0  0.0    -0.357339   4.121518   \n",
       "0023_01             0.0        0.0          2.0  0.0    -0.340723  -0.283840   \n",
       "\n",
       "             ShoppingMall       Spa    VRDeck  deck  side  total_spent  \\\n",
       "PassengerId                                                              \n",
       "0013_01         -0.312173 -0.267841 -0.246712   6.0   1.0    -0.503425   \n",
       "0018_01         -0.312173  2.287504 -0.246712   5.0   1.0     0.502231   \n",
       "0019_01         -0.312173 -0.267841 -0.246712   2.0   1.0    -0.503425   \n",
       "0021_01         -0.312173 -0.104002  0.226648   2.0   1.0     2.130740   \n",
       "0023_01          0.832122 -0.267841 -0.246712   5.0   1.0    -0.274383   \n",
       "\n",
       "             Age_Group  Passenger_Group  \n",
       "PassengerId                              \n",
       "0013_01            0.0                1  \n",
       "0018_01            3.0                1  \n",
       "0019_01            0.0                1  \n",
       "0021_01            0.0                1  \n",
       "0023_01            3.0                1  "
      ]
     },
     "execution_count": 28,
     "metadata": {},
     "output_type": "execute_result"
    }
   ],
   "source": [
    "test_data.head()"
   ]
  },
  {
   "cell_type": "markdown",
   "id": "b30e5be4",
   "metadata": {},
   "source": [
    "# Modeling"
   ]
  },
  {
   "cell_type": "code",
   "execution_count": 62,
   "id": "33395ce1",
   "metadata": {},
   "outputs": [],
   "source": [
    "from sklearn.linear_model import LogisticRegression\n",
    "from sklearn.model_selection import train_test_split\n",
    "from sklearn.metrics import confusion_matrix, ConfusionMatrixDisplay\n",
    "from sklearn.ensemble import RandomForestClassifier\n",
    "from sklearn.svm import SVC\n",
    "from sklearn.tree import DecisionTreeClassifier\n",
    "from sklearn.model_selection import GridSearchCV, RandomizedSearchCV, cross_val_predict, cross_val_score\n"
   ]
  },
  {
   "cell_type": "code",
   "execution_count": 30,
   "id": "789c7941",
   "metadata": {},
   "outputs": [
    {
     "data": {
      "text/plain": [
       "Index(['HomePlanet', 'CryoSleep', 'Destination', 'VIP', 'RoomService',\n",
       "       'FoodCourt', 'ShoppingMall', 'Spa', 'VRDeck', 'deck', 'side',\n",
       "       'total_spent', 'Age_Group', 'Passenger_Group'],\n",
       "      dtype='object')"
      ]
     },
     "execution_count": 30,
     "metadata": {},
     "output_type": "execute_result"
    }
   ],
   "source": [
    "X = train_data.drop('Transported',axis=1)\n",
    "y = train_data['Transported']\n",
    "\n",
    "X.columns"
   ]
  },
  {
   "cell_type": "code",
   "execution_count": 31,
   "id": "409bc30c",
   "metadata": {},
   "outputs": [],
   "source": [
    "X_test = test_data"
   ]
  },
  {
   "cell_type": "markdown",
   "id": "021dc1f6",
   "metadata": {},
   "source": [
    "### LogisticRegression"
   ]
  },
  {
   "cell_type": "code",
   "execution_count": 91,
   "id": "84ec771a",
   "metadata": {},
   "outputs": [
    {
     "data": {
      "text/plain": [
       "0.7845392844817669"
      ]
     },
     "execution_count": 91,
     "metadata": {},
     "output_type": "execute_result"
    }
   ],
   "source": [
    "model_Log = LogisticRegression(max_iter=10000)\n",
    "model_Log.fit(X,y)\n",
    "model_Log.score(X,y)"
   ]
  },
  {
   "cell_type": "code",
   "execution_count": 92,
   "id": "669c8a8d",
   "metadata": {},
   "outputs": [],
   "source": [
    "y_pred_log= model_Log.predict(X_test)"
   ]
  },
  {
   "cell_type": "markdown",
   "id": "00072cc1",
   "metadata": {},
   "source": [
    "### SVM"
   ]
  },
  {
   "cell_type": "code",
   "execution_count": 71,
   "id": "fca99eab",
   "metadata": {},
   "outputs": [
    {
     "data": {
      "text/plain": [
       "0.801104336822731"
      ]
     },
     "execution_count": 71,
     "metadata": {},
     "output_type": "execute_result"
    }
   ],
   "source": [
    "model_svc = SVC(random_state = 42)\n",
    "model_svc.fit(X,y)\n",
    "model_svc.score(X,y)"
   ]
  },
  {
   "cell_type": "code",
   "execution_count": 72,
   "id": "3e3c5be0",
   "metadata": {},
   "outputs": [],
   "source": [
    "y_pred_svc = model_svc.predict(X_test)"
   ]
  },
  {
   "cell_type": "code",
   "execution_count": 73,
   "id": "c6d48916",
   "metadata": {},
   "outputs": [
    {
     "data": {
      "text/html": [
       "<div>\n",
       "<style scoped>\n",
       "    .dataframe tbody tr th:only-of-type {\n",
       "        vertical-align: middle;\n",
       "    }\n",
       "\n",
       "    .dataframe tbody tr th {\n",
       "        vertical-align: top;\n",
       "    }\n",
       "\n",
       "    .dataframe thead th {\n",
       "        text-align: right;\n",
       "    }\n",
       "</style>\n",
       "<table border=\"1\" class=\"dataframe\">\n",
       "  <thead>\n",
       "    <tr style=\"text-align: right;\">\n",
       "      <th></th>\n",
       "      <th>Transported</th>\n",
       "    </tr>\n",
       "    <tr>\n",
       "      <th>PassengerId</th>\n",
       "      <th></th>\n",
       "    </tr>\n",
       "  </thead>\n",
       "  <tbody>\n",
       "    <tr>\n",
       "      <th>0013_01</th>\n",
       "      <td>True</td>\n",
       "    </tr>\n",
       "    <tr>\n",
       "      <th>0018_01</th>\n",
       "      <td>False</td>\n",
       "    </tr>\n",
       "    <tr>\n",
       "      <th>0019_01</th>\n",
       "      <td>True</td>\n",
       "    </tr>\n",
       "    <tr>\n",
       "      <th>0021_01</th>\n",
       "      <td>True</td>\n",
       "    </tr>\n",
       "    <tr>\n",
       "      <th>0023_01</th>\n",
       "      <td>False</td>\n",
       "    </tr>\n",
       "  </tbody>\n",
       "</table>\n",
       "</div>"
      ],
      "text/plain": [
       "             Transported\n",
       "PassengerId             \n",
       "0013_01             True\n",
       "0018_01            False\n",
       "0019_01             True\n",
       "0021_01             True\n",
       "0023_01            False"
      ]
     },
     "execution_count": 73,
     "metadata": {},
     "output_type": "execute_result"
    }
   ],
   "source": [
    "sub=pd.DataFrame({'Transported':y_pred_svc.astype(bool)},index=X_test.index)\n",
    "sub.head()"
   ]
  },
  {
   "cell_type": "markdown",
   "id": "a2ccd237",
   "metadata": {},
   "source": [
    "### Random Forest"
   ]
  },
  {
   "cell_type": "code",
   "execution_count": 59,
   "id": "996fb220",
   "metadata": {},
   "outputs": [
    {
     "data": {
      "text/plain": [
       "0.929598527550903"
      ]
     },
     "execution_count": 59,
     "metadata": {},
     "output_type": "execute_result"
    }
   ],
   "source": [
    "model_forest = RandomForestClassifier()\n",
    "model_forest.fit(X,y)\n",
    "model_forest.score(X,y)"
   ]
  },
  {
   "cell_type": "code",
   "execution_count": 60,
   "id": "8a5d324b",
   "metadata": {},
   "outputs": [],
   "source": [
    "y_pred_forest = model_forest.predict(X_test)"
   ]
  },
  {
   "cell_type": "code",
   "execution_count": 65,
   "id": "7ef0a36f",
   "metadata": {},
   "outputs": [
    {
     "data": {
      "text/html": [
       "<div>\n",
       "<style scoped>\n",
       "    .dataframe tbody tr th:only-of-type {\n",
       "        vertical-align: middle;\n",
       "    }\n",
       "\n",
       "    .dataframe tbody tr th {\n",
       "        vertical-align: top;\n",
       "    }\n",
       "\n",
       "    .dataframe thead th {\n",
       "        text-align: right;\n",
       "    }\n",
       "</style>\n",
       "<table border=\"1\" class=\"dataframe\">\n",
       "  <thead>\n",
       "    <tr style=\"text-align: right;\">\n",
       "      <th></th>\n",
       "      <th>Transported</th>\n",
       "    </tr>\n",
       "    <tr>\n",
       "      <th>PassengerId</th>\n",
       "      <th></th>\n",
       "    </tr>\n",
       "  </thead>\n",
       "  <tbody>\n",
       "    <tr>\n",
       "      <th>0013_01</th>\n",
       "      <td>True</td>\n",
       "    </tr>\n",
       "    <tr>\n",
       "      <th>0018_01</th>\n",
       "      <td>False</td>\n",
       "    </tr>\n",
       "    <tr>\n",
       "      <th>0019_01</th>\n",
       "      <td>True</td>\n",
       "    </tr>\n",
       "    <tr>\n",
       "      <th>0021_01</th>\n",
       "      <td>True</td>\n",
       "    </tr>\n",
       "    <tr>\n",
       "      <th>0023_01</th>\n",
       "      <td>True</td>\n",
       "    </tr>\n",
       "  </tbody>\n",
       "</table>\n",
       "</div>"
      ],
      "text/plain": [
       "             Transported\n",
       "PassengerId             \n",
       "0013_01             True\n",
       "0018_01            False\n",
       "0019_01             True\n",
       "0021_01             True\n",
       "0023_01             True"
      ]
     },
     "execution_count": 65,
     "metadata": {},
     "output_type": "execute_result"
    }
   ],
   "source": [
    "sub=pd.DataFrame({'Transported':y_pred_forest.astype(bool)},index=X_test.index)\n",
    "sub.head()"
   ]
  },
  {
   "cell_type": "code",
   "execution_count": 67,
   "id": "ad3cef8e",
   "metadata": {},
   "outputs": [
    {
     "data": {
      "text/html": [
       "<style>#sk-container-id-1 {color: black;background-color: white;}#sk-container-id-1 pre{padding: 0;}#sk-container-id-1 div.sk-toggleable {background-color: white;}#sk-container-id-1 label.sk-toggleable__label {cursor: pointer;display: block;width: 100%;margin-bottom: 0;padding: 0.3em;box-sizing: border-box;text-align: center;}#sk-container-id-1 label.sk-toggleable__label-arrow:before {content: \"▸\";float: left;margin-right: 0.25em;color: #696969;}#sk-container-id-1 label.sk-toggleable__label-arrow:hover:before {color: black;}#sk-container-id-1 div.sk-estimator:hover label.sk-toggleable__label-arrow:before {color: black;}#sk-container-id-1 div.sk-toggleable__content {max-height: 0;max-width: 0;overflow: hidden;text-align: left;background-color: #f0f8ff;}#sk-container-id-1 div.sk-toggleable__content pre {margin: 0.2em;color: black;border-radius: 0.25em;background-color: #f0f8ff;}#sk-container-id-1 input.sk-toggleable__control:checked~div.sk-toggleable__content {max-height: 200px;max-width: 100%;overflow: auto;}#sk-container-id-1 input.sk-toggleable__control:checked~label.sk-toggleable__label-arrow:before {content: \"▾\";}#sk-container-id-1 div.sk-estimator input.sk-toggleable__control:checked~label.sk-toggleable__label {background-color: #d4ebff;}#sk-container-id-1 div.sk-label input.sk-toggleable__control:checked~label.sk-toggleable__label {background-color: #d4ebff;}#sk-container-id-1 input.sk-hidden--visually {border: 0;clip: rect(1px 1px 1px 1px);clip: rect(1px, 1px, 1px, 1px);height: 1px;margin: -1px;overflow: hidden;padding: 0;position: absolute;width: 1px;}#sk-container-id-1 div.sk-estimator {font-family: monospace;background-color: #f0f8ff;border: 1px dotted black;border-radius: 0.25em;box-sizing: border-box;margin-bottom: 0.5em;}#sk-container-id-1 div.sk-estimator:hover {background-color: #d4ebff;}#sk-container-id-1 div.sk-parallel-item::after {content: \"\";width: 100%;border-bottom: 1px solid gray;flex-grow: 1;}#sk-container-id-1 div.sk-label:hover label.sk-toggleable__label {background-color: #d4ebff;}#sk-container-id-1 div.sk-serial::before {content: \"\";position: absolute;border-left: 1px solid gray;box-sizing: border-box;top: 0;bottom: 0;left: 50%;z-index: 0;}#sk-container-id-1 div.sk-serial {display: flex;flex-direction: column;align-items: center;background-color: white;padding-right: 0.2em;padding-left: 0.2em;position: relative;}#sk-container-id-1 div.sk-item {position: relative;z-index: 1;}#sk-container-id-1 div.sk-parallel {display: flex;align-items: stretch;justify-content: center;background-color: white;position: relative;}#sk-container-id-1 div.sk-item::before, #sk-container-id-1 div.sk-parallel-item::before {content: \"\";position: absolute;border-left: 1px solid gray;box-sizing: border-box;top: 0;bottom: 0;left: 50%;z-index: -1;}#sk-container-id-1 div.sk-parallel-item {display: flex;flex-direction: column;z-index: 1;position: relative;background-color: white;}#sk-container-id-1 div.sk-parallel-item:first-child::after {align-self: flex-end;width: 50%;}#sk-container-id-1 div.sk-parallel-item:last-child::after {align-self: flex-start;width: 50%;}#sk-container-id-1 div.sk-parallel-item:only-child::after {width: 0;}#sk-container-id-1 div.sk-dashed-wrapped {border: 1px dashed gray;margin: 0 0.4em 0.5em 0.4em;box-sizing: border-box;padding-bottom: 0.4em;background-color: white;}#sk-container-id-1 div.sk-label label {font-family: monospace;font-weight: bold;display: inline-block;line-height: 1.2em;}#sk-container-id-1 div.sk-label-container {text-align: center;}#sk-container-id-1 div.sk-container {/* jupyter's `normalize.less` sets `[hidden] { display: none; }` but bootstrap.min.css set `[hidden] { display: none !important; }` so we also need the `!important` here to be able to override the default hidden behavior on the sphinx rendered scikit-learn.org. See: https://github.com/scikit-learn/scikit-learn/issues/21755 */display: inline-block !important;position: relative;}#sk-container-id-1 div.sk-text-repr-fallback {display: none;}</style><div id=\"sk-container-id-1\" class=\"sk-top-container\"><div class=\"sk-text-repr-fallback\"><pre>RandomForestClassifier(min_samples_leaf=4, n_estimators=500)</pre><b>In a Jupyter environment, please rerun this cell to show the HTML representation or trust the notebook. <br />On GitHub, the HTML representation is unable to render, please try loading this page with nbviewer.org.</b></div><div class=\"sk-container\" hidden><div class=\"sk-item\"><div class=\"sk-estimator sk-toggleable\"><input class=\"sk-toggleable__control sk-hidden--visually\" id=\"sk-estimator-id-1\" type=\"checkbox\" checked><label for=\"sk-estimator-id-1\" class=\"sk-toggleable__label sk-toggleable__label-arrow\">RandomForestClassifier</label><div class=\"sk-toggleable__content\"><pre>RandomForestClassifier(min_samples_leaf=4, n_estimators=500)</pre></div></div></div></div></div>"
      ],
      "text/plain": [
       "RandomForestClassifier(min_samples_leaf=4, n_estimators=500)"
      ]
     },
     "execution_count": 67,
     "metadata": {},
     "output_type": "execute_result"
    }
   ],
   "source": [
    "# fine tunnig random forest \n",
    "forest_params = [{'n_estimators':[500],\n",
    "                'min_samples_leaf':[4]}]\n",
    "\n",
    "forest_grid = GridSearchCV(estimator=model_forest, param_grid=forest_params, cv=5)\n",
    "forest_grid.fit(X, y)\n",
    "forest_grid.best_estimator_"
   ]
  },
  {
   "cell_type": "code",
   "execution_count": 69,
   "id": "8f5a3c92",
   "metadata": {},
   "outputs": [],
   "source": [
    "model_forest_final = forest_grid.best_estimator_\n",
    "y_pred_forest2 = model_forest_final.predict(X_test)"
   ]
  },
  {
   "cell_type": "code",
   "execution_count": 70,
   "id": "88dc507d",
   "metadata": {},
   "outputs": [
    {
     "data": {
      "text/plain": [
       "0.7919035383349955"
      ]
     },
     "execution_count": 70,
     "metadata": {},
     "output_type": "execute_result"
    }
   ],
   "source": [
    "fr_score = cross_val_score(model_forest_final, X, y, cv=5)\n",
    "fr_score.mean()"
   ]
  },
  {
   "cell_type": "markdown",
   "id": "6498ae96",
   "metadata": {},
   "source": [
    "### K-Neighbors Classifier"
   ]
  },
  {
   "cell_type": "code",
   "execution_count": 35,
   "id": "cbe0e9e4",
   "metadata": {},
   "outputs": [],
   "source": [
    "from sklearn.neighbors import KNeighborsClassifier\n",
    "import warnings\n",
    "\n",
    "warnings.simplefilter(action='ignore', category=FutureWarning)"
   ]
  },
  {
   "cell_type": "code",
   "execution_count": 36,
   "id": "1e2f1b17",
   "metadata": {},
   "outputs": [
    {
     "data": {
      "text/plain": [
       "{'n_neighbors': 11}"
      ]
     },
     "execution_count": 36,
     "metadata": {},
     "output_type": "execute_result"
    }
   ],
   "source": [
    "knn = KNeighborsClassifier()\n",
    "param_grid = {'n_neighbors':np.arange(2,15)}\n",
    "knn_gscv = GridSearchCV(knn, param_grid, cv=5)\n",
    "knn_gscv.fit(X,y)\n",
    "knn_gscv.best_params_"
   ]
  },
  {
   "cell_type": "code",
   "execution_count": 37,
   "id": "8fb52ddf",
   "metadata": {},
   "outputs": [
    {
     "data": {
      "text/plain": [
       "0.8034050385367537"
      ]
     },
     "execution_count": 37,
     "metadata": {},
     "output_type": "execute_result"
    }
   ],
   "source": [
    "model_knn = KNeighborsClassifier(n_neighbors=11)\n",
    "model_knn.fit(X,y)\n",
    "model_knn.score(X,y)"
   ]
  },
  {
   "cell_type": "code",
   "execution_count": 38,
   "id": "14bf7c1e",
   "metadata": {},
   "outputs": [],
   "source": [
    "y_pred_knn = model_knn.predict(X_test)"
   ]
  },
  {
   "cell_type": "markdown",
   "id": "b22db953",
   "metadata": {},
   "source": [
    "### Gradient Boosting Classifier"
   ]
  },
  {
   "cell_type": "code",
   "execution_count": 40,
   "id": "f29b4e8d",
   "metadata": {},
   "outputs": [
    {
     "data": {
      "text/plain": [
       "0.8142183365926607"
      ]
     },
     "execution_count": 40,
     "metadata": {},
     "output_type": "execute_result"
    }
   ],
   "source": [
    "from sklearn.ensemble import GradientBoostingClassifier\n",
    "model_gbr = GradientBoostingClassifier(random_state = 1)\n",
    "  \n",
    "# Fit to training set\n",
    "model_gbr.fit(X, y)\n",
    "model_gbr.score(X,y)"
   ]
  },
  {
   "cell_type": "code",
   "execution_count": 41,
   "id": "b74839c9",
   "metadata": {},
   "outputs": [],
   "source": [
    "y_pred_gbr = model_gbr.predict(X_test)"
   ]
  },
  {
   "cell_type": "markdown",
   "id": "dc34e457",
   "metadata": {},
   "source": [
    "### Tuning the Gradient Boostinf classifier"
   ]
  },
  {
   "cell_type": "code",
   "execution_count": 57,
   "id": "89c907f8",
   "metadata": {},
   "outputs": [
    {
     "data": {
      "text/plain": [
       "{'n_estimators': 100, 'max_depth': 5, 'learning_rate': 0.1}"
      ]
     },
     "execution_count": 57,
     "metadata": {},
     "output_type": "execute_result"
    }
   ],
   "source": [
    "gbc = GradientBoostingClassifier()\n",
    "parameters = {\n",
    "    \"n_estimators\":[5,50,100],\n",
    "    \"max_depth\":[1,3,5],\n",
    "    \"learning_rate\":[0.01,0.1,1]\n",
    "}\n",
    "cv = RandomizedSearchCV(gbc, parameters, n_iter=27, scoring='accuracy', n_jobs=-1, cv=5, random_state=1)\n",
    "cv.fit(X,y)\n",
    "cv.best_params_"
   ]
  },
  {
   "cell_type": "code",
   "execution_count": 52,
   "id": "04a67292",
   "metadata": {},
   "outputs": [
    {
     "data": {
      "text/plain": [
       "0.8413666168181295"
      ]
     },
     "execution_count": 52,
     "metadata": {},
     "output_type": "execute_result"
    }
   ],
   "source": [
    "model2_gbc = GradientBoostingClassifier(n_estimators=100,max_depth=5,learning_rate=0.1) #best params from gscv\n",
    "\n",
    "model2_gbc.fit(X,y)\n",
    "model2_gbc.score(X,y)"
   ]
  },
  {
   "cell_type": "code",
   "execution_count": 53,
   "id": "6e4d00c7",
   "metadata": {},
   "outputs": [],
   "source": [
    "y_pred_gbc = model2_gbc.predict(X_test)"
   ]
  },
  {
   "cell_type": "markdown",
   "id": "b21e4af2",
   "metadata": {},
   "source": [
    "### Extreme Gradient Boosting"
   ]
  },
  {
   "cell_type": "code",
   "execution_count": 43,
   "id": "86864ab0",
   "metadata": {},
   "outputs": [
    {
     "data": {
      "text/plain": [
       "0.8900264580697113"
      ]
     },
     "execution_count": 43,
     "metadata": {},
     "output_type": "execute_result"
    }
   ],
   "source": [
    "from xgboost import XGBClassifier\n",
    "model_xgb = XGBClassifier()\n",
    "model_xgb.fit(X,y)\n",
    "model_xgb.score(X,y)"
   ]
  },
  {
   "cell_type": "code",
   "execution_count": 44,
   "id": "616a1bb6",
   "metadata": {},
   "outputs": [],
   "source": [
    "y_pred_xgb = model_xgb.predict(X_test)"
   ]
  },
  {
   "cell_type": "markdown",
   "id": "685c8397",
   "metadata": {},
   "source": [
    "### CatBoost"
   ]
  },
  {
   "cell_type": "code",
   "execution_count": 46,
   "id": "a0bd7e61",
   "metadata": {},
   "outputs": [],
   "source": [
    "from catboost import CatBoostClassifier\n",
    "\n",
    "model_cat=CatBoostClassifier(iterations=3000,\n",
    "                         eval_metric='Accuracy',\n",
    "                        verbose=0)\n"
   ]
  },
  {
   "cell_type": "code",
   "execution_count": 47,
   "id": "46417e79",
   "metadata": {},
   "outputs": [
    {
     "data": {
      "text/plain": [
       "<catboost.core.CatBoostClassifier at 0x7f1b3532bd30>"
      ]
     },
     "execution_count": 47,
     "metadata": {},
     "output_type": "execute_result"
    }
   ],
   "source": [
    "model_cat.fit(X,y)"
   ]
  },
  {
   "cell_type": "code",
   "execution_count": 48,
   "id": "f159b48f",
   "metadata": {},
   "outputs": [
    {
     "name": "stdout",
     "output_type": "stream",
     "text": [
      "0.8571264235591856\n"
     ]
    }
   ],
   "source": [
    "from sklearn.metrics import accuracy_score\n",
    "pred = model_cat.predict(X)\n",
    "print(accuracy_score(y.values,pred))"
   ]
  },
  {
   "cell_type": "code",
   "execution_count": 58,
   "id": "2e42202b",
   "metadata": {},
   "outputs": [],
   "source": [
    "y_pred_cat = model_cat.predict(X_test)"
   ]
  },
  {
   "cell_type": "markdown",
   "id": "f57aa5b5",
   "metadata": {},
   "source": [
    "### AdaBoost"
   ]
  },
  {
   "cell_type": "code",
   "execution_count": 93,
   "id": "5bd5ea5d",
   "metadata": {},
   "outputs": [],
   "source": [
    "from sklearn.ensemble import AdaBoostClassifier"
   ]
  },
  {
   "cell_type": "code",
   "execution_count": 95,
   "id": "69ff27f9",
   "metadata": {},
   "outputs": [],
   "source": [
    "ada_boost_model = AdaBoostClassifier(n_estimators=50, random_state=42)"
   ]
  },
  {
   "cell_type": "code",
   "execution_count": 96,
   "id": "5afb942b",
   "metadata": {},
   "outputs": [
    {
     "data": {
      "text/html": [
       "<style>#sk-container-id-2 {color: black;background-color: white;}#sk-container-id-2 pre{padding: 0;}#sk-container-id-2 div.sk-toggleable {background-color: white;}#sk-container-id-2 label.sk-toggleable__label {cursor: pointer;display: block;width: 100%;margin-bottom: 0;padding: 0.3em;box-sizing: border-box;text-align: center;}#sk-container-id-2 label.sk-toggleable__label-arrow:before {content: \"▸\";float: left;margin-right: 0.25em;color: #696969;}#sk-container-id-2 label.sk-toggleable__label-arrow:hover:before {color: black;}#sk-container-id-2 div.sk-estimator:hover label.sk-toggleable__label-arrow:before {color: black;}#sk-container-id-2 div.sk-toggleable__content {max-height: 0;max-width: 0;overflow: hidden;text-align: left;background-color: #f0f8ff;}#sk-container-id-2 div.sk-toggleable__content pre {margin: 0.2em;color: black;border-radius: 0.25em;background-color: #f0f8ff;}#sk-container-id-2 input.sk-toggleable__control:checked~div.sk-toggleable__content {max-height: 200px;max-width: 100%;overflow: auto;}#sk-container-id-2 input.sk-toggleable__control:checked~label.sk-toggleable__label-arrow:before {content: \"▾\";}#sk-container-id-2 div.sk-estimator input.sk-toggleable__control:checked~label.sk-toggleable__label {background-color: #d4ebff;}#sk-container-id-2 div.sk-label input.sk-toggleable__control:checked~label.sk-toggleable__label {background-color: #d4ebff;}#sk-container-id-2 input.sk-hidden--visually {border: 0;clip: rect(1px 1px 1px 1px);clip: rect(1px, 1px, 1px, 1px);height: 1px;margin: -1px;overflow: hidden;padding: 0;position: absolute;width: 1px;}#sk-container-id-2 div.sk-estimator {font-family: monospace;background-color: #f0f8ff;border: 1px dotted black;border-radius: 0.25em;box-sizing: border-box;margin-bottom: 0.5em;}#sk-container-id-2 div.sk-estimator:hover {background-color: #d4ebff;}#sk-container-id-2 div.sk-parallel-item::after {content: \"\";width: 100%;border-bottom: 1px solid gray;flex-grow: 1;}#sk-container-id-2 div.sk-label:hover label.sk-toggleable__label {background-color: #d4ebff;}#sk-container-id-2 div.sk-serial::before {content: \"\";position: absolute;border-left: 1px solid gray;box-sizing: border-box;top: 0;bottom: 0;left: 50%;z-index: 0;}#sk-container-id-2 div.sk-serial {display: flex;flex-direction: column;align-items: center;background-color: white;padding-right: 0.2em;padding-left: 0.2em;position: relative;}#sk-container-id-2 div.sk-item {position: relative;z-index: 1;}#sk-container-id-2 div.sk-parallel {display: flex;align-items: stretch;justify-content: center;background-color: white;position: relative;}#sk-container-id-2 div.sk-item::before, #sk-container-id-2 div.sk-parallel-item::before {content: \"\";position: absolute;border-left: 1px solid gray;box-sizing: border-box;top: 0;bottom: 0;left: 50%;z-index: -1;}#sk-container-id-2 div.sk-parallel-item {display: flex;flex-direction: column;z-index: 1;position: relative;background-color: white;}#sk-container-id-2 div.sk-parallel-item:first-child::after {align-self: flex-end;width: 50%;}#sk-container-id-2 div.sk-parallel-item:last-child::after {align-self: flex-start;width: 50%;}#sk-container-id-2 div.sk-parallel-item:only-child::after {width: 0;}#sk-container-id-2 div.sk-dashed-wrapped {border: 1px dashed gray;margin: 0 0.4em 0.5em 0.4em;box-sizing: border-box;padding-bottom: 0.4em;background-color: white;}#sk-container-id-2 div.sk-label label {font-family: monospace;font-weight: bold;display: inline-block;line-height: 1.2em;}#sk-container-id-2 div.sk-label-container {text-align: center;}#sk-container-id-2 div.sk-container {/* jupyter's `normalize.less` sets `[hidden] { display: none; }` but bootstrap.min.css set `[hidden] { display: none !important; }` so we also need the `!important` here to be able to override the default hidden behavior on the sphinx rendered scikit-learn.org. See: https://github.com/scikit-learn/scikit-learn/issues/21755 */display: inline-block !important;position: relative;}#sk-container-id-2 div.sk-text-repr-fallback {display: none;}</style><div id=\"sk-container-id-2\" class=\"sk-top-container\"><div class=\"sk-text-repr-fallback\"><pre>AdaBoostClassifier(random_state=42)</pre><b>In a Jupyter environment, please rerun this cell to show the HTML representation or trust the notebook. <br />On GitHub, the HTML representation is unable to render, please try loading this page with nbviewer.org.</b></div><div class=\"sk-container\" hidden><div class=\"sk-item\"><div class=\"sk-estimator sk-toggleable\"><input class=\"sk-toggleable__control sk-hidden--visually\" id=\"sk-estimator-id-2\" type=\"checkbox\" checked><label for=\"sk-estimator-id-2\" class=\"sk-toggleable__label sk-toggleable__label-arrow\">AdaBoostClassifier</label><div class=\"sk-toggleable__content\"><pre>AdaBoostClassifier(random_state=42)</pre></div></div></div></div></div>"
      ],
      "text/plain": [
       "AdaBoostClassifier(random_state=42)"
      ]
     },
     "execution_count": 96,
     "metadata": {},
     "output_type": "execute_result"
    }
   ],
   "source": [
    "ada_boost_model.fit(X, y)"
   ]
  },
  {
   "cell_type": "code",
   "execution_count": 97,
   "id": "55943440",
   "metadata": {},
   "outputs": [
    {
     "data": {
      "text/plain": [
       "0.7940871965949614"
      ]
     },
     "execution_count": 97,
     "metadata": {},
     "output_type": "execute_result"
    }
   ],
   "source": [
    "ada_boost_model.score(X,y)"
   ]
  },
  {
   "cell_type": "code",
   "execution_count": 98,
   "id": "976cc71b",
   "metadata": {},
   "outputs": [],
   "source": [
    "y_pred_adaboost = ada_boost_model.predict(X_test)"
   ]
  },
  {
   "cell_type": "code",
   "execution_count": 99,
   "id": "68bd9342",
   "metadata": {},
   "outputs": [
    {
     "data": {
      "text/html": [
       "<div>\n",
       "<style scoped>\n",
       "    .dataframe tbody tr th:only-of-type {\n",
       "        vertical-align: middle;\n",
       "    }\n",
       "\n",
       "    .dataframe tbody tr th {\n",
       "        vertical-align: top;\n",
       "    }\n",
       "\n",
       "    .dataframe thead th {\n",
       "        text-align: right;\n",
       "    }\n",
       "</style>\n",
       "<table border=\"1\" class=\"dataframe\">\n",
       "  <thead>\n",
       "    <tr style=\"text-align: right;\">\n",
       "      <th></th>\n",
       "      <th>Transported</th>\n",
       "    </tr>\n",
       "    <tr>\n",
       "      <th>PassengerId</th>\n",
       "      <th></th>\n",
       "    </tr>\n",
       "  </thead>\n",
       "  <tbody>\n",
       "    <tr>\n",
       "      <th>2983_01</th>\n",
       "      <td>False</td>\n",
       "    </tr>\n",
       "    <tr>\n",
       "      <th>2257_02</th>\n",
       "      <td>True</td>\n",
       "    </tr>\n",
       "    <tr>\n",
       "      <th>3138_01</th>\n",
       "      <td>False</td>\n",
       "    </tr>\n",
       "    <tr>\n",
       "      <th>7159_01</th>\n",
       "      <td>True</td>\n",
       "    </tr>\n",
       "    <tr>\n",
       "      <th>3904_01</th>\n",
       "      <td>False</td>\n",
       "    </tr>\n",
       "  </tbody>\n",
       "</table>\n",
       "</div>"
      ],
      "text/plain": [
       "             Transported\n",
       "PassengerId             \n",
       "2983_01            False\n",
       "2257_02             True\n",
       "3138_01            False\n",
       "7159_01             True\n",
       "3904_01            False"
      ]
     },
     "execution_count": 99,
     "metadata": {},
     "output_type": "execute_result"
    }
   ],
   "source": [
    "sub=pd.DataFrame({'Transported':y_pred_adaboost.astype(bool)},index=X_test.index)\n",
    "sub.head()"
   ]
  },
  {
   "cell_type": "markdown",
   "id": "2b600012",
   "metadata": {},
   "source": [
    "### Fine tune AdaBoost Classifier"
   ]
  },
  {
   "cell_type": "code",
   "execution_count": null,
   "id": "4f944fe1",
   "metadata": {},
   "outputs": [],
   "source": []
  },
  {
   "cell_type": "markdown",
   "id": "bd10f19b",
   "metadata": {},
   "source": [
    "### Lazy Classifier"
   ]
  },
  {
   "cell_type": "code",
   "execution_count": 81,
   "id": "19d476e8",
   "metadata": {},
   "outputs": [],
   "source": [
    "import lazypredict\n",
    "from lazypredict.Supervised import LazyClassifier\n",
    "from IPython.display import clear_output"
   ]
  },
  {
   "cell_type": "code",
   "execution_count": 78,
   "id": "1b090bde",
   "metadata": {},
   "outputs": [],
   "source": [
    "X_train , X_test , y_train , y_test = train_test_split(X, \n",
    "                                                       y, \n",
    "                                                       random_state = 12 ,\n",
    "                                                       test_size =0.33)"
   ]
  },
  {
   "cell_type": "code",
   "execution_count": 82,
   "id": "07022a2a",
   "metadata": {},
   "outputs": [],
   "source": [
    "clf = LazyClassifier(verbose=0,\n",
    "                     ignore_warnings=True,\n",
    "                     custom_metric=None,\n",
    "                     predictions=False,\n",
    "                     random_state=12,\n",
    "                     classifiers='all')\n",
    "\n",
    "models, predictions = clf.fit(X_train , X_test , y_train , y_test)\n",
    "clear_output()"
   ]
  },
  {
   "cell_type": "code",
   "execution_count": 83,
   "id": "b3505956",
   "metadata": {},
   "outputs": [
    {
     "data": {
      "text/html": [
       "<div>\n",
       "<style scoped>\n",
       "    .dataframe tbody tr th:only-of-type {\n",
       "        vertical-align: middle;\n",
       "    }\n",
       "\n",
       "    .dataframe tbody tr th {\n",
       "        vertical-align: top;\n",
       "    }\n",
       "\n",
       "    .dataframe thead th {\n",
       "        text-align: right;\n",
       "    }\n",
       "</style>\n",
       "<table border=\"1\" class=\"dataframe\">\n",
       "  <thead>\n",
       "    <tr style=\"text-align: right;\">\n",
       "      <th></th>\n",
       "      <th>Accuracy</th>\n",
       "      <th>Balanced Accuracy</th>\n",
       "      <th>ROC AUC</th>\n",
       "      <th>F1 Score</th>\n",
       "      <th>Time Taken</th>\n",
       "    </tr>\n",
       "    <tr>\n",
       "      <th>Model</th>\n",
       "      <th></th>\n",
       "      <th></th>\n",
       "      <th></th>\n",
       "      <th></th>\n",
       "      <th></th>\n",
       "    </tr>\n",
       "  </thead>\n",
       "  <tbody>\n",
       "    <tr>\n",
       "      <th>LGBMClassifier</th>\n",
       "      <td>0.79</td>\n",
       "      <td>0.79</td>\n",
       "      <td>0.79</td>\n",
       "      <td>0.79</td>\n",
       "      <td>0.09</td>\n",
       "    </tr>\n",
       "    <tr>\n",
       "      <th>XGBClassifier</th>\n",
       "      <td>0.79</td>\n",
       "      <td>0.79</td>\n",
       "      <td>0.79</td>\n",
       "      <td>0.79</td>\n",
       "      <td>0.17</td>\n",
       "    </tr>\n",
       "    <tr>\n",
       "      <th>SVC</th>\n",
       "      <td>0.78</td>\n",
       "      <td>0.78</td>\n",
       "      <td>0.78</td>\n",
       "      <td>0.78</td>\n",
       "      <td>1.16</td>\n",
       "    </tr>\n",
       "    <tr>\n",
       "      <th>NuSVC</th>\n",
       "      <td>0.78</td>\n",
       "      <td>0.78</td>\n",
       "      <td>0.78</td>\n",
       "      <td>0.78</td>\n",
       "      <td>1.44</td>\n",
       "    </tr>\n",
       "    <tr>\n",
       "      <th>AdaBoostClassifier</th>\n",
       "      <td>0.78</td>\n",
       "      <td>0.78</td>\n",
       "      <td>0.78</td>\n",
       "      <td>0.78</td>\n",
       "      <td>0.21</td>\n",
       "    </tr>\n",
       "    <tr>\n",
       "      <th>RandomForestClassifier</th>\n",
       "      <td>0.78</td>\n",
       "      <td>0.78</td>\n",
       "      <td>0.78</td>\n",
       "      <td>0.78</td>\n",
       "      <td>0.48</td>\n",
       "    </tr>\n",
       "    <tr>\n",
       "      <th>CalibratedClassifierCV</th>\n",
       "      <td>0.77</td>\n",
       "      <td>0.77</td>\n",
       "      <td>0.77</td>\n",
       "      <td>0.77</td>\n",
       "      <td>1.38</td>\n",
       "    </tr>\n",
       "    <tr>\n",
       "      <th>LinearSVC</th>\n",
       "      <td>0.77</td>\n",
       "      <td>0.77</td>\n",
       "      <td>0.77</td>\n",
       "      <td>0.77</td>\n",
       "      <td>0.37</td>\n",
       "    </tr>\n",
       "    <tr>\n",
       "      <th>LogisticRegression</th>\n",
       "      <td>0.77</td>\n",
       "      <td>0.77</td>\n",
       "      <td>0.77</td>\n",
       "      <td>0.77</td>\n",
       "      <td>0.03</td>\n",
       "    </tr>\n",
       "    <tr>\n",
       "      <th>ExtraTreesClassifier</th>\n",
       "      <td>0.77</td>\n",
       "      <td>0.77</td>\n",
       "      <td>0.77</td>\n",
       "      <td>0.77</td>\n",
       "      <td>0.37</td>\n",
       "    </tr>\n",
       "    <tr>\n",
       "      <th>SGDClassifier</th>\n",
       "      <td>0.77</td>\n",
       "      <td>0.77</td>\n",
       "      <td>0.77</td>\n",
       "      <td>0.77</td>\n",
       "      <td>0.08</td>\n",
       "    </tr>\n",
       "    <tr>\n",
       "      <th>BaggingClassifier</th>\n",
       "      <td>0.77</td>\n",
       "      <td>0.77</td>\n",
       "      <td>0.77</td>\n",
       "      <td>0.77</td>\n",
       "      <td>0.14</td>\n",
       "    </tr>\n",
       "    <tr>\n",
       "      <th>KNeighborsClassifier</th>\n",
       "      <td>0.76</td>\n",
       "      <td>0.76</td>\n",
       "      <td>0.76</td>\n",
       "      <td>0.76</td>\n",
       "      <td>0.22</td>\n",
       "    </tr>\n",
       "    <tr>\n",
       "      <th>RidgeClassifier</th>\n",
       "      <td>0.75</td>\n",
       "      <td>0.75</td>\n",
       "      <td>0.75</td>\n",
       "      <td>0.75</td>\n",
       "      <td>0.02</td>\n",
       "    </tr>\n",
       "    <tr>\n",
       "      <th>LinearDiscriminantAnalysis</th>\n",
       "      <td>0.75</td>\n",
       "      <td>0.75</td>\n",
       "      <td>0.75</td>\n",
       "      <td>0.75</td>\n",
       "      <td>0.06</td>\n",
       "    </tr>\n",
       "  </tbody>\n",
       "</table>\n",
       "</div>"
      ],
      "text/plain": [
       "                            Accuracy  Balanced Accuracy  ROC AUC  F1 Score  \\\n",
       "Model                                                                        \n",
       "LGBMClassifier                  0.79               0.79     0.79      0.79   \n",
       "XGBClassifier                   0.79               0.79     0.79      0.79   \n",
       "SVC                             0.78               0.78     0.78      0.78   \n",
       "NuSVC                           0.78               0.78     0.78      0.78   \n",
       "AdaBoostClassifier              0.78               0.78     0.78      0.78   \n",
       "RandomForestClassifier          0.78               0.78     0.78      0.78   \n",
       "CalibratedClassifierCV          0.77               0.77     0.77      0.77   \n",
       "LinearSVC                       0.77               0.77     0.77      0.77   \n",
       "LogisticRegression              0.77               0.77     0.77      0.77   \n",
       "ExtraTreesClassifier            0.77               0.77     0.77      0.77   \n",
       "SGDClassifier                   0.77               0.77     0.77      0.77   \n",
       "BaggingClassifier               0.77               0.77     0.77      0.77   \n",
       "KNeighborsClassifier            0.76               0.76     0.76      0.76   \n",
       "RidgeClassifier                 0.75               0.75     0.75      0.75   \n",
       "LinearDiscriminantAnalysis      0.75               0.75     0.75      0.75   \n",
       "\n",
       "                            Time Taken  \n",
       "Model                                   \n",
       "LGBMClassifier                    0.09  \n",
       "XGBClassifier                     0.17  \n",
       "SVC                               1.16  \n",
       "NuSVC                             1.44  \n",
       "AdaBoostClassifier                0.21  \n",
       "RandomForestClassifier            0.48  \n",
       "CalibratedClassifierCV            1.38  \n",
       "LinearSVC                         0.37  \n",
       "LogisticRegression                0.03  \n",
       "ExtraTreesClassifier              0.37  \n",
       "SGDClassifier                     0.08  \n",
       "BaggingClassifier                 0.14  \n",
       "KNeighborsClassifier              0.22  \n",
       "RidgeClassifier                   0.02  \n",
       "LinearDiscriminantAnalysis        0.06  "
      ]
     },
     "execution_count": 83,
     "metadata": {},
     "output_type": "execute_result"
    }
   ],
   "source": [
    "models[:15]"
   ]
  }
 ],
 "metadata": {
  "kernelspec": {
   "display_name": "Python 3 (ipykernel)",
   "language": "python",
   "name": "python3"
  },
  "language_info": {
   "codemirror_mode": {
    "name": "ipython",
    "version": 3
   },
   "file_extension": ".py",
   "mimetype": "text/x-python",
   "name": "python",
   "nbconvert_exporter": "python",
   "pygments_lexer": "ipython3",
   "version": "3.10.9"
  }
 },
 "nbformat": 4,
 "nbformat_minor": 5
}
