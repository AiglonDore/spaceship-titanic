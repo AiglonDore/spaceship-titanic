{
 "cells": [
  {
   "cell_type": "markdown",
   "id": "41a8df27",
   "metadata": {},
   "source": [
    "# Spaceship titanic"
   ]
  },
  {
   "cell_type": "markdown",
   "id": "b8bfdb9b",
   "metadata": {},
   "source": [
    "# 1. Import Libraries/ Data Loading "
   ]
  },
  {
   "cell_type": "code",
   "execution_count": null,
   "id": "9797e4c0",
   "metadata": {},
   "outputs": [],
   "source": [
    "import numpy as np\n",
    "import pandas as pd\n",
    "\n",
    "import matplotlib.pyplot as plt\n",
    "import seaborn as sns\n",
    "import missingno as msno\n",
    "import plotly.express as px\n",
    "\n",
    "from sklearn.preprocessing import LabelEncoder\n",
    "\n",
    "sns.set(rc={'figure.figsize':(6, 4)})\n",
    "sns.set_style('whitegrid')\n",
    "sns.color_palette(\"flare\")\n",
    "sns.set_palette(sns.color_palette(\"flare\"))"
   ]
  },
  {
   "cell_type": "code",
   "execution_count": null,
   "id": "8d03b267",
   "metadata": {},
   "outputs": [],
   "source": [
    "train_data = pd.read_csv(\"data/train.csv\")\n",
    "test_data = pd.read_csv(\"data/test.csv\")"
   ]
  },
  {
   "cell_type": "markdown",
   "id": "a792d14c",
   "metadata": {},
   "source": [
    "# 2. EDA (Exploratory Data Analysis) and Data Preprocessing\n",
    "\n",
    "\n",
    "The goal of EDA is to understand the main characteristics of the data and identify any patterns, outliers, or other features of the data that are important to know before building a model or making predictions."
   ]
  },
  {
   "cell_type": "markdown",
   "id": "323a3538",
   "metadata": {},
   "source": [
    "### Observations in Train Data\n",
    "It's a first step in EDA. It is useful for understanding the main characteristics of the data and identifying any patterns, outliers, or other features of the data.\n",
    "\n",
    "- There are total of 14 columns and 8693 rows in train data.\n",
    "- Train data contains 119378 observation with 2324 missing values.\n",
    "- All 12 feature columns have missing values in them with CryoSleep having highest missing values (217) \n",
    "- Transported is the target variable which is only available in the train dataset."
   ]
  },
  {
   "cell_type": "code",
   "execution_count": null,
   "id": "7db8d104",
   "metadata": {},
   "outputs": [],
   "source": [
    "train_data.head()"
   ]
  },
  {
   "cell_type": "code",
   "execution_count": null,
   "id": "9bc99802",
   "metadata": {},
   "outputs": [],
   "source": [
    "print(f'Shape of train data: {train_data.shape}')"
   ]
  },
  {
   "cell_type": "code",
   "execution_count": null,
   "id": "dc3ac794",
   "metadata": {},
   "outputs": [],
   "source": [
    "print(f'Number of rows in train data: {train_data.shape[0]}')\n",
    "print(f'Number of columns in train data: {train_data.shape[1]}')\n",
    "print(f'Number of values in train data: {train_data.count().sum()}')\n",
    "print(f'Number missing values in train data: {sum(train_data.isna().sum())}')"
   ]
  },
  {
   "cell_type": "code",
   "execution_count": null,
   "id": "ade79955",
   "metadata": {},
   "outputs": [],
   "source": [
    "print(train_data.isna().sum().sort_values(ascending = False))"
   ]
  },
  {
   "cell_type": "markdown",
   "id": "c88763fc",
   "metadata": {},
   "source": [
    "The basic statistics for each variables which contain information on count, mean, standard deviation, minimum, 1st quartile, median, 3rd quartile and maximum."
   ]
  },
  {
   "cell_type": "code",
   "execution_count": null,
   "id": "7000394d",
   "metadata": {},
   "outputs": [],
   "source": [
    "# Descriptive Statistics\n",
    "train_data.describe()"
   ]
  },
  {
   "cell_type": "markdown",
   "id": "b91b086e",
   "metadata": {},
   "source": [
    "The pandas-profiling library allows you to generate a profile report that allows you to obtain the types of all the columns and to access statistical details at the quantile level, descriptions, histograms, and the most frequent and exterm values."
   ]
  },
  {
   "cell_type": "code",
   "execution_count": null,
   "id": "481d84ac",
   "metadata": {
    "scrolled": true
   },
   "outputs": [],
   "source": [
    "from pandas_profiling import ProfileReport\n",
    "\n",
    "ProfileReport(train_data)"
   ]
  },
  {
   "cell_type": "markdown",
   "id": "ee957fa0",
   "metadata": {},
   "source": [
    "### Observations in Test Data\n",
    "- There are total of 13 columns and 4277 rows in test data.\n",
    "- Test data contains 54484 observation with 1117 missing values.\n",
    "- All 12 feature columns have missing values in them with FoodCourt having highest missing values (106)"
   ]
  },
  {
   "cell_type": "code",
   "execution_count": null,
   "id": "21b6ebb0",
   "metadata": {},
   "outputs": [],
   "source": [
    "test_data.head()"
   ]
  },
  {
   "cell_type": "code",
   "execution_count": null,
   "id": "1b4489d8",
   "metadata": {},
   "outputs": [],
   "source": [
    "print(f'Shape of test data: {test_data.shape}')"
   ]
  },
  {
   "cell_type": "code",
   "execution_count": null,
   "id": "89486f99",
   "metadata": {},
   "outputs": [],
   "source": [
    "print(f'Number of rows in test data: {test_data.shape[0]}')\n",
    "print(f'Number of columns in test data: {test_data.shape[1]}')\n",
    "print(f'Number of values in train data: {test_data.count().sum()}')\n",
    "print(f'Number of rows with missing values  in test data: {sum(test_data.isna().sum())}')"
   ]
  },
  {
   "cell_type": "code",
   "execution_count": null,
   "id": "efeb0b5c",
   "metadata": {},
   "outputs": [],
   "source": [
    "print((test_data.isna().sum().sort_values(ascending = False)))"
   ]
  },
  {
   "cell_type": "code",
   "execution_count": null,
   "id": "0b8ee9b8",
   "metadata": {},
   "outputs": [],
   "source": [
    "# statistics of test data \n",
    "test_data.describe()"
   ]
  },
  {
   "cell_type": "markdown",
   "id": "d7a6e760",
   "metadata": {},
   "source": [
    "### Visualization of data"
   ]
  },
  {
   "cell_type": "code",
   "execution_count": null,
   "id": "e3bfae3a",
   "metadata": {},
   "outputs": [],
   "source": [
    "enc =LabelEncoder()\n",
    "train_data['Transported'] = enc.fit_transform(train_data['Transported'])\n",
    "sns.countplot(data=train_data,x=train_data.Transported)"
   ]
  },
  {
   "cell_type": "code",
   "execution_count": null,
   "id": "f678962b",
   "metadata": {},
   "outputs": [],
   "source": [
    "sns.countplot(data=train_data, x='Destination', hue='Transported')"
   ]
  },
  {
   "cell_type": "code",
   "execution_count": null,
   "id": "0a342903",
   "metadata": {},
   "outputs": [],
   "source": [
    "sns.countplot(data=train_data, x='HomePlanet', hue='Transported')"
   ]
  },
  {
   "cell_type": "code",
   "execution_count": null,
   "id": "2f76f730",
   "metadata": {},
   "outputs": [],
   "source": [
    "sns.countplot(data=train_data, x='HomePlanet', hue='Destination')"
   ]
  },
  {
   "cell_type": "markdown",
   "id": "42892325",
   "metadata": {},
   "source": [
    "### Visualization of missing data"
   ]
  },
  {
   "cell_type": "code",
   "execution_count": null,
   "id": "842675eb",
   "metadata": {},
   "outputs": [],
   "source": [
    "# Using Missingno to Diagnose Data Sparsity\n",
    "\n",
    "msno.matrix(train_data).set_title(\"Train set\",fontsize=20)"
   ]
  },
  {
   "cell_type": "code",
   "execution_count": null,
   "id": "a4466954",
   "metadata": {},
   "outputs": [],
   "source": [
    "msno.matrix(test_data).set_title(\"Test set\",fontsize=20)"
   ]
  },
  {
   "cell_type": "markdown",
   "id": "6c666a84",
   "metadata": {},
   "source": [
    "### Correlation matrix\n",
    "\n",
    "Darker colors indicate a stronger positive correlation, while lighter colors indicate a weaker positive correlation or a negative correlation."
   ]
  },
  {
   "cell_type": "code",
   "execution_count": null,
   "id": "cb38d6b6",
   "metadata": {},
   "outputs": [],
   "source": [
    "corr = train_data.corr()\n",
    "\n",
    "fig, ax = plt.subplots(figsize=(10, 10))\n",
    "sns.heatmap(corr, annot=True, ax=ax)\n",
    "plt.show()"
   ]
  },
  {
   "cell_type": "code",
   "execution_count": null,
   "id": "521e9748",
   "metadata": {},
   "outputs": [],
   "source": [
    "plt.figure(5, figsize=(25, 10))\n",
    "corr = train_data.apply(lambda x: pd.factorize(x)[0]).corr()\n",
    "mask = np.triu(np.ones_like(corr, dtype=bool))\n",
    "ax = sns.heatmap(corr, mask=mask, xticklabels=corr.columns, yticklabels=corr.columns, annot=True, linewidths=.2, cmap='coolwarm', vmin=-1, vmax=1)\n",
    "plt.show()"
   ]
  },
  {
   "cell_type": "markdown",
   "id": "48e0ce0f",
   "metadata": {},
   "source": [
    "# 3. Feature Engineering\n",
    "Feature engineering is the process of using domain knowledge to extract features from raw data that can be used to train machine learning models. It involves transforming raw data into a format that can be easily understood by the model, such as converting text to numerical values. The goal of feature engineering is to create a set of features that are most informative and relevant for the task at hand, which can improve the performance of the model.\n"
   ]
  },
  {
   "cell_type": "code",
   "execution_count": null,
   "id": "23739c6d",
   "metadata": {},
   "outputs": [],
   "source": [
    "train_data.drop('Name', axis=1, inplace=True)\n",
    "test_data.drop('Name', axis=1, inplace=True)"
   ]
  },
  {
   "cell_type": "code",
   "execution_count": null,
   "id": "460f6cd8",
   "metadata": {},
   "outputs": [],
   "source": [
    "train_data['Transported'].replace(False, 0, inplace=True)\n",
    "train_data['Transported'].replace(True, 1, inplace=True)"
   ]
  },
  {
   "cell_type": "code",
   "execution_count": null,
   "id": "4247f3d5",
   "metadata": {},
   "outputs": [],
   "source": [
    "train_data[['deck','num', 'side']] = train_data['Cabin'].str.split('/', expand=True)\n",
    "test_data[['deck','num', 'side']] = test_data['Cabin'].str.split('/', expand=True)\n",
    "\n",
    "train_data.drop('Cabin', axis=1, inplace=True)\n",
    "test_data.drop('Cabin', axis=1, inplace=True)\n",
    "\n",
    "\n",
    "train_data.drop('num', axis=1, inplace=True)\n",
    "test_data.drop('num', axis=1, inplace=True)"
   ]
  },
  {
   "cell_type": "code",
   "execution_count": null,
   "id": "0a49e0e7",
   "metadata": {},
   "outputs": [],
   "source": [
    "col_to_sum = ['RoomService', 'FoodCourt', 'ShoppingMall', 'Spa', 'VRDeck']\n",
    "\n",
    "train_data['total_spent'] = train_data[col_to_sum].sum(axis=1)\n",
    "test_data['total_spent'] = test_data[col_to_sum].sum(axis=1)"
   ]
  },
  {
   "cell_type": "code",
   "execution_count": null,
   "id": "76b0bd7d",
   "metadata": {},
   "outputs": [],
   "source": [
    "plt.figure(figsize=(6,5 ))\n",
    "train_data['deck'].value_counts().plot.bar(rot=0)"
   ]
  },
  {
   "cell_type": "code",
   "execution_count": null,
   "id": "e810208a",
   "metadata": {},
   "outputs": [],
   "source": [
    "plt.figure(figsize=(6,5 ))\n",
    "train_data['side'].value_counts().plot.bar(rot=0)"
   ]
  },
  {
   "cell_type": "code",
   "execution_count": null,
   "id": "527d1464",
   "metadata": {},
   "outputs": [],
   "source": [
    "train_data.hist(\"Age\")"
   ]
  },
  {
   "cell_type": "code",
   "execution_count": null,
   "id": "788ca669",
   "metadata": {},
   "outputs": [],
   "source": [
    "train_data.Age.describe()"
   ]
  },
  {
   "cell_type": "code",
   "execution_count": null,
   "id": "41e841de",
   "metadata": {},
   "outputs": [],
   "source": [
    "# child : 0, teenager : 1, adult : 2, older : 3\n",
    "labels=['child', 'teenager', 'adult', 'older']\n",
    "bins = [0, 12, 21, 45, 80]\n",
    "train_data['Age_Group'] = pd.cut(train_data['Age'], bins=bins, labels=labels)\n",
    "test_data['Age_Group'] = pd.cut(test_data['Age'], bins=bins, labels=labels)\n",
    "train_data.head()"
   ]
  },
  {
   "cell_type": "code",
   "execution_count": null,
   "id": "7e28f1c9",
   "metadata": {},
   "outputs": [],
   "source": [
    "plt.figure(figsize=(6,5 ))\n",
    "train_data['Age_Group'].value_counts().plot.bar(rot=0)"
   ]
  },
  {
   "cell_type": "code",
   "execution_count": null,
   "id": "64accb72",
   "metadata": {},
   "outputs": [],
   "source": [
    "train_data = train_data.drop(\"Age\", axis=1)\n",
    "test_data = test_data.drop(\"Age\", axis=1)\n",
    "\n",
    "train_data.head()"
   ]
  },
  {
   "cell_type": "code",
   "execution_count": null,
   "id": "d1504d88",
   "metadata": {},
   "outputs": [],
   "source": [
    "train_data['Passenger_Group'] = train_data['PassengerId'].str.split('_', 1, expand=True)[1].astype(int)\n",
    "test_data['Passenger_Group'] = test_data['PassengerId'].str.split('_', 1, expand=True)[1].astype(int)\n",
    "\n",
    "train_data.set_index('PassengerId',inplace=True)\n",
    "test_data.set_index('PassengerId',inplace=True)\n",
    "\n",
    "# train_data = train_data.drop(\"PassengerId\", axis = 1)\n",
    "# test_data = test_data.drop(\"PassengerId\", axis = 1)"
   ]
  },
  {
   "cell_type": "code",
   "execution_count": null,
   "id": "36d7f5c7",
   "metadata": {},
   "outputs": [],
   "source": [
    "train_data.head()"
   ]
  },
  {
   "cell_type": "markdown",
   "id": "b7c44529",
   "metadata": {},
   "source": [
    "### Outliers detection"
   ]
  },
  {
   "cell_type": "code",
   "execution_count": null,
   "id": "29aff026",
   "metadata": {},
   "outputs": [],
   "source": [
    "train_data.plot(kind = \"box\" , subplots = True , layout= (5,5), figsize =(20,15) )\n",
    "plt.show()"
   ]
  },
  {
   "cell_type": "code",
   "execution_count": null,
   "id": "75a2b681",
   "metadata": {},
   "outputs": [],
   "source": [
    "sns.boxplot(data=train_data[[\"RoomService\",\"FoodCourt\",\"ShoppingMall\",\"Spa\",\"VRDeck\"]])"
   ]
  },
  {
   "cell_type": "markdown",
   "id": "cd1b485d",
   "metadata": {},
   "source": [
    "###  Imputing Missing Values\n",
    "\n",
    "\n",
    "We are using Simple Imputer to fill the na values with the specified strategy.\n",
    "\n",
    "For ['HomePlanet', 'CryoSleep', 'Destination', 'VIP', 'deck', 'side', 'Age_Group'] we use the strategy most_frequent as it is categorical data.\n",
    "\n",
    "For ['RoomService', 'FoodCourt', 'ShoppingMall', 'Spa', 'VRDeck', 'total_spent'] we use the strategy median as it is numeric data.\n"
   ]
  },
  {
   "cell_type": "code",
   "execution_count": null,
   "id": "5420cd99",
   "metadata": {},
   "outputs": [],
   "source": [
    "categorical_cols = [col for col in train_data.columns if train_data[col].dtype == 'object' or train_data[col].dtype == 'category']\n",
    "numeric_cols = [col for col in train_data.columns if train_data[col].dtype == 'float64']\n",
    "\n",
    "print(f'Categorical cols -- {categorical_cols}')\n",
    "print(f'Numeric cols -- {numeric_cols}')"
   ]
  },
  {
   "cell_type": "code",
   "execution_count": null,
   "id": "1b6adee8",
   "metadata": {},
   "outputs": [],
   "source": [
    "train_data[categorical_cols] = train_data[categorical_cols].astype('category')\n",
    "test_data[categorical_cols] = test_data[categorical_cols].astype('category')"
   ]
  },
  {
   "cell_type": "code",
   "execution_count": null,
   "id": "fcb5c694",
   "metadata": {},
   "outputs": [],
   "source": [
    "from sklearn.preprocessing import OrdinalEncoder\n",
    "\n",
    "oc = OrdinalEncoder()\n",
    "data_for_encode = pd.concat([train_data, test_data])\n",
    "data_for_encode[categorical_cols] = data_for_encode[categorical_cols].astype('category')\n",
    "data_for_encode[categorical_cols] = oc.fit_transform(data_for_encode[categorical_cols])\n",
    "\n",
    "del train_data, test_data\n",
    "\n",
    "train_data = data_for_encode.iloc[:8693, :]\n",
    "test_data = data_for_encode.iloc[8693: , :]\n",
    "\n",
    "del data_for_encode\n",
    "\n",
    "test_data.drop('Transported', inplace=True, axis=1)"
   ]
  },
  {
   "cell_type": "code",
   "execution_count": null,
   "id": "e6f27ee1",
   "metadata": {},
   "outputs": [],
   "source": [
    "from sklearn.impute import SimpleImputer\n",
    "from sklearn.compose import ColumnTransformer\n",
    "\n",
    "ctc = ColumnTransformer([(\"imp\", SimpleImputer(strategy='most_frequent'), categorical_cols)])\n",
    "    \n",
    "train_data[categorical_cols] = ctc.fit_transform(train_data[categorical_cols])\n",
    "test_data[categorical_cols] = ctc.fit_transform(test_data[categorical_cols])\n",
    "\n",
    "ctn = ColumnTransformer([(\"imp\", SimpleImputer(strategy='median'), numeric_cols)])\n",
    "\n",
    "train_data[numeric_cols] = ctn.fit_transform(train_data[numeric_cols])\n",
    "test_data[numeric_cols] = ctn.fit_transform(test_data[numeric_cols])\n",
    "\n",
    "train_data[\"Transported\"].fillna(method='ffill', inplace = True)"
   ]
  },
  {
   "cell_type": "code",
   "execution_count": null,
   "id": "d904a910",
   "metadata": {},
   "outputs": [],
   "source": [
    "train_data.head()"
   ]
  },
  {
   "cell_type": "code",
   "execution_count": null,
   "id": "97586fdd",
   "metadata": {},
   "outputs": [],
   "source": [
    "from sklearn.preprocessing import StandardScaler\n",
    "\n",
    "scaler = StandardScaler()\n",
    "\n",
    "train_data[numeric_cols] = scaler.fit_transform(train_data[numeric_cols])\n",
    "test_data[numeric_cols] = scaler.fit_transform(test_data[numeric_cols])\n"
   ]
  },
  {
   "cell_type": "code",
   "execution_count": null,
   "id": "318b1a47",
   "metadata": {},
   "outputs": [],
   "source": [
    "train_data.head()"
   ]
  },
  {
   "cell_type": "code",
   "execution_count": null,
   "id": "f7d844b5",
   "metadata": {},
   "outputs": [],
   "source": [
    "test_data.head()"
   ]
  },
  {
   "cell_type": "markdown",
   "id": "b30e5be4",
   "metadata": {},
   "source": [
    "# Modeling"
   ]
  },
  {
   "cell_type": "code",
   "execution_count": null,
   "id": "33395ce1",
   "metadata": {},
   "outputs": [],
   "source": [
    "from sklearn.linear_model import LogisticRegression\n",
    "from sklearn.model_selection import train_test_split\n",
    "from sklearn.metrics import confusion_matrix, ConfusionMatrixDisplay\n",
    "from sklearn.ensemble import RandomForestClassifier\n",
    "from sklearn.svm import SVC\n",
    "from sklearn.tree import DecisionTreeClassifier\n",
    "from sklearn.model_selection import GridSearchCV, RandomizedSearchCV, cross_val_predict, cross_val_score\n"
   ]
  },
  {
   "cell_type": "code",
   "execution_count": null,
   "id": "789c7941",
   "metadata": {},
   "outputs": [],
   "source": [
    "X = train_data.drop('Transported',axis=1)\n",
    "y = train_data['Transported']\n",
    "\n",
    "X.columns"
   ]
  },
  {
   "cell_type": "code",
   "execution_count": null,
   "id": "409bc30c",
   "metadata": {},
   "outputs": [],
   "source": [
    "X_test_data = test_data"
   ]
  },
  {
   "cell_type": "code",
   "execution_count": null,
   "id": "1b80fd60",
   "metadata": {},
   "outputs": [],
   "source": [
    "X_train , X_test , y_train , y_test = train_test_split(X, \n",
    "                                                       y, \n",
    "                                                       random_state = 12 ,\n",
    "                                                       test_size =0.20)"
   ]
  },
  {
   "cell_type": "code",
   "execution_count": null,
   "id": "2525eb0b",
   "metadata": {},
   "outputs": [],
   "source": [
    "X_train.shape"
   ]
  },
  {
   "cell_type": "code",
   "execution_count": null,
   "id": "503de2f0",
   "metadata": {},
   "outputs": [],
   "source": [
    "X_test.shape"
   ]
  },
  {
   "cell_type": "markdown",
   "id": "021dc1f6",
   "metadata": {},
   "source": [
    "### LogisticRegression"
   ]
  },
  {
   "cell_type": "code",
   "execution_count": null,
   "id": "84ec771a",
   "metadata": {},
   "outputs": [],
   "source": [
    "model_Log = LogisticRegression(max_iter=10000)\n",
    "model_Log.fit(X_train,y_train)\n",
    "model_Log.score(X_train,y_train)"
   ]
  },
  {
   "cell_type": "code",
   "execution_count": null,
   "id": "669c8a8d",
   "metadata": {},
   "outputs": [],
   "source": [
    "y_pred_log= model_Log.predict(X_test)"
   ]
  },
  {
   "cell_type": "code",
   "execution_count": null,
   "id": "2de5ace3",
   "metadata": {},
   "outputs": [],
   "source": [
    "model_Log.score(X_test, y_test)"
   ]
  },
  {
   "cell_type": "code",
   "execution_count": null,
   "id": "bec51487",
   "metadata": {},
   "outputs": [],
   "source": [
    "model_Log.coef_"
   ]
  },
  {
   "cell_type": "markdown",
   "id": "b634ed20",
   "metadata": {},
   "source": [
    "### Random Forest"
   ]
  },
  {
   "cell_type": "code",
   "execution_count": null,
   "id": "ac38c255",
   "metadata": {},
   "outputs": [],
   "source": [
    "model_forest = RandomForestClassifier()\n",
    "model_forest.fit(X_train,y_train)\n",
    "model_forest.score(X_train,y_train)"
   ]
  },
  {
   "cell_type": "code",
   "execution_count": null,
   "id": "9b33f80b",
   "metadata": {},
   "outputs": [],
   "source": [
    "y_pred_forest = model_forest.predict(X_test)"
   ]
  },
  {
   "cell_type": "code",
   "execution_count": null,
   "id": "d7ecd992",
   "metadata": {},
   "outputs": [],
   "source": [
    "model_Log.score(X_test, y_test)"
   ]
  },
  {
   "cell_type": "code",
   "execution_count": null,
   "id": "91441187",
   "metadata": {},
   "outputs": [],
   "source": [
    "# fine tunnig random forest \n",
    "forest_params = [{'n_estimators':[500],\n",
    "                'min_samples_leaf':[4]}]\n",
    "\n",
    "forest_grid = GridSearchCV(estimator=model_forest, param_grid=forest_params, cv=5)\n",
    "forest_grid.fit(X_train, y_train)\n",
    "forest_grid.best_estimator_"
   ]
  },
  {
   "cell_type": "code",
   "execution_count": null,
   "id": "2443c87a",
   "metadata": {},
   "outputs": [],
   "source": [
    "model_forest_final = forest_grid.best_estimator_\n",
    "y_pred_forest2 = model_forest_final.predict(X_test)"
   ]
  },
  {
   "cell_type": "code",
   "execution_count": null,
   "id": "e60ec059",
   "metadata": {},
   "outputs": [],
   "source": [
    "model_forest_final.score(X_test, y_test)"
   ]
  },
  {
   "cell_type": "code",
   "execution_count": null,
   "id": "f6dc8e10",
   "metadata": {},
   "outputs": [],
   "source": [
    "model_forest_final.feature_importances_"
   ]
  },
  {
   "cell_type": "markdown",
   "id": "2a0d471b",
   "metadata": {},
   "source": [
    "### SVM"
   ]
  },
  {
   "cell_type": "code",
   "execution_count": null,
   "id": "c7e36d16",
   "metadata": {},
   "outputs": [],
   "source": [
    "model_svc = SVC(random_state = 42)\n",
    "model_svc.fit(X_train,y_train)\n",
    "model_svc.score(X_train,y_train)"
   ]
  },
  {
   "cell_type": "code",
   "execution_count": null,
   "id": "e24700f9",
   "metadata": {},
   "outputs": [],
   "source": [
    "y_pred_svc = model_svc.predict(X_test)"
   ]
  },
  {
   "cell_type": "code",
   "execution_count": null,
   "id": "3d2a9219",
   "metadata": {},
   "outputs": [],
   "source": [
    "model_svc.score(X_test, y_test)"
   ]
  },
  {
   "cell_type": "markdown",
   "id": "6ca284e7",
   "metadata": {},
   "source": [
    "### K-Neighbors Classifier"
   ]
  },
  {
   "cell_type": "code",
   "execution_count": null,
   "id": "cbe0e9e4",
   "metadata": {},
   "outputs": [],
   "source": [
    "from sklearn.neighbors import KNeighborsClassifier\n",
    "import warnings\n",
    "\n",
    "warnings.simplefilter(action='ignore', category=FutureWarning)"
   ]
  },
  {
   "cell_type": "code",
   "execution_count": null,
   "id": "1e2f1b17",
   "metadata": {},
   "outputs": [],
   "source": [
    "knn = KNeighborsClassifier()\n",
    "param_grid = {'n_neighbors':np.arange(2,15)}\n",
    "knn_gscv = GridSearchCV(knn, param_grid, cv=5)\n",
    "knn_gscv.fit(X,y)\n",
    "knn_gscv.best_params_"
   ]
  },
  {
   "cell_type": "code",
   "execution_count": null,
   "id": "8fb52ddf",
   "metadata": {},
   "outputs": [],
   "source": [
    "model_knn = KNeighborsClassifier(n_neighbors=11)\n",
    "model_knn.fit(X_train,y_train)\n",
    "model_knn.score(X_train,y_train)"
   ]
  },
  {
   "cell_type": "code",
   "execution_count": null,
   "id": "14bf7c1e",
   "metadata": {},
   "outputs": [],
   "source": [
    "y_pred_knn = model_knn.predict(X_test)"
   ]
  },
  {
   "cell_type": "code",
   "execution_count": null,
   "id": "0fe55c68",
   "metadata": {},
   "outputs": [],
   "source": [
    "model_knn.score(X_test, y_test)"
   ]
  },
  {
   "cell_type": "markdown",
   "id": "b22db953",
   "metadata": {},
   "source": [
    "### Gradient Boosting Classifier"
   ]
  },
  {
   "cell_type": "code",
   "execution_count": null,
   "id": "f29b4e8d",
   "metadata": {},
   "outputs": [],
   "source": [
    "from sklearn.ensemble import GradientBoostingClassifier\n",
    "model_gbr = GradientBoostingClassifier(random_state = 1)\n",
    "  \n",
    "# Fit to training set\n",
    "model_gbr.fit(X_train, y_train)\n",
    "model_gbr.score(X_train,y_train)"
   ]
  },
  {
   "cell_type": "code",
   "execution_count": null,
   "id": "b74839c9",
   "metadata": {},
   "outputs": [],
   "source": [
    "y_pred_gbr = model_gbr.predict(X_test)"
   ]
  },
  {
   "cell_type": "code",
   "execution_count": null,
   "id": "d7067adb",
   "metadata": {},
   "outputs": [],
   "source": [
    "model_gbr.score(X_test, y_test)"
   ]
  },
  {
   "cell_type": "markdown",
   "id": "a3569313",
   "metadata": {},
   "source": [
    "### Tuning the Gradient Boostinf classifier"
   ]
  },
  {
   "cell_type": "code",
   "execution_count": null,
   "id": "cdd6cf11",
   "metadata": {},
   "outputs": [],
   "source": [
    "gbc = GradientBoostingClassifier()\n",
    "parameters = {\n",
    "    \"n_estimators\":[5,50,100],\n",
    "    \"max_depth\":[1,3,5],\n",
    "    \"learning_rate\":[0.01,0.1,1]\n",
    "}\n",
    "cv = RandomizedSearchCV(gbc, parameters, n_iter=27, scoring='accuracy', n_jobs=-1, cv=5, random_state=1)\n",
    "cv.fit(X,y)\n",
    "cv.best_params_"
   ]
  },
  {
   "cell_type": "code",
   "execution_count": null,
   "id": "d79fc4dd",
   "metadata": {},
   "outputs": [],
   "source": [
    "model2_gbc = GradientBoostingClassifier(n_estimators=100,max_depth=5,learning_rate=0.1) #best params from gscv\n",
    "\n",
    "model2_gbc.fit(X_train,y_train)\n",
    "model2_gbc.score(X_train,y_train)"
   ]
  },
  {
   "cell_type": "code",
   "execution_count": null,
   "id": "10592808",
   "metadata": {},
   "outputs": [],
   "source": [
    "y_pred_gbc = model2_gbc.predict(X_test)"
   ]
  },
  {
   "cell_type": "code",
   "execution_count": null,
   "id": "6e3095aa",
   "metadata": {},
   "outputs": [],
   "source": [
    "model2_gbc.score(X_test, y_test)"
   ]
  },
  {
   "cell_type": "markdown",
   "id": "b21e4af2",
   "metadata": {},
   "source": [
    "### Extreme Gradient Boosting"
   ]
  },
  {
   "cell_type": "code",
   "execution_count": null,
   "id": "86864ab0",
   "metadata": {},
   "outputs": [],
   "source": [
    "from xgboost import XGBClassifier\n",
    "model_xgb = XGBClassifier()\n",
    "model_xgb.fit(X_train,y_train)\n",
    "model_xgb.score(X_train,y_train)"
   ]
  },
  {
   "cell_type": "code",
   "execution_count": null,
   "id": "616a1bb6",
   "metadata": {},
   "outputs": [],
   "source": [
    "y_pred_xgb = model_xgb.predict(X_test)"
   ]
  },
  {
   "cell_type": "code",
   "execution_count": null,
   "id": "fdf7564e",
   "metadata": {},
   "outputs": [],
   "source": [
    "model_xgb.score(X_test, y_test)"
   ]
  },
  {
   "cell_type": "markdown",
   "id": "685c8397",
   "metadata": {},
   "source": [
    "### CatBoost"
   ]
  },
  {
   "cell_type": "code",
   "execution_count": null,
   "id": "a0bd7e61",
   "metadata": {},
   "outputs": [],
   "source": [
    "from catboost import CatBoostClassifier\n",
    "\n",
    "model_cat=CatBoostClassifier(iterations=3000,\n",
    "                         eval_metric='Accuracy',\n",
    "                        verbose=0)\n"
   ]
  },
  {
   "cell_type": "code",
   "execution_count": null,
   "id": "46417e79",
   "metadata": {},
   "outputs": [],
   "source": [
    "model_cat.fit(X_train,y_train)"
   ]
  },
  {
   "cell_type": "code",
   "execution_count": null,
   "id": "f159b48f",
   "metadata": {},
   "outputs": [],
   "source": [
    "from sklearn.metrics import accuracy_score\n",
    "pred = model_cat.predict(X_train)\n",
    "print(accuracy_score(y_train.values,pred))"
   ]
  },
  {
   "cell_type": "code",
   "execution_count": null,
   "id": "2e42202b",
   "metadata": {},
   "outputs": [],
   "source": [
    "y_pred_cat = model_cat.predict(X_test)"
   ]
  },
  {
   "cell_type": "code",
   "execution_count": null,
   "id": "b725dca2",
   "metadata": {},
   "outputs": [],
   "source": [
    "model_cat.score(X_test, y_test)"
   ]
  },
  {
   "cell_type": "markdown",
   "id": "bb0133a8",
   "metadata": {},
   "source": [
    "### AdaBoost"
   ]
  },
  {
   "cell_type": "code",
   "execution_count": null,
   "id": "303beb52",
   "metadata": {},
   "outputs": [],
   "source": [
    "from sklearn.ensemble import AdaBoostClassifier"
   ]
  },
  {
   "cell_type": "code",
   "execution_count": null,
   "id": "ad582040",
   "metadata": {},
   "outputs": [],
   "source": [
    "ada_boost_model = AdaBoostClassifier(n_estimators=50, random_state=42)"
   ]
  },
  {
   "cell_type": "code",
   "execution_count": null,
   "id": "5ea6c634",
   "metadata": {},
   "outputs": [],
   "source": [
    "ada_boost_model.fit(X_train, y_train)"
   ]
  },
  {
   "cell_type": "code",
   "execution_count": null,
   "id": "1b914249",
   "metadata": {},
   "outputs": [],
   "source": [
    "ada_boost_model.score(X_train,y_train)"
   ]
  },
  {
   "cell_type": "code",
   "execution_count": null,
   "id": "642cefe5",
   "metadata": {},
   "outputs": [],
   "source": [
    "y_pred_adaboost = ada_boost_model.predict(X_test)"
   ]
  },
  {
   "cell_type": "code",
   "execution_count": null,
   "id": "91793398",
   "metadata": {},
   "outputs": [],
   "source": [
    "ada_boost_model.score(X_test, y_test)"
   ]
  },
  {
   "cell_type": "markdown",
   "id": "f1af2618",
   "metadata": {},
   "source": [
    "### Fine tune AdaBoost Classifier"
   ]
  },
  {
   "cell_type": "code",
   "execution_count": null,
   "id": "6a53516d",
   "metadata": {},
   "outputs": [],
   "source": []
  },
  {
   "cell_type": "markdown",
   "id": "12878513",
   "metadata": {},
   "source": [
    "### Lazy Classifier"
   ]
  },
  {
   "cell_type": "code",
   "execution_count": null,
   "id": "d11f4453",
   "metadata": {},
   "outputs": [],
   "source": [
    "import lazypredict\n",
    "from lazypredict.Supervised import LazyClassifier\n",
    "from IPython.display import clear_output"
   ]
  },
  {
   "cell_type": "code",
   "execution_count": null,
   "id": "2bae95f4",
   "metadata": {},
   "outputs": [],
   "source": [
    "X_train , X_test , y_train , y_test = train_test_split(X, \n",
    "                                                       y, \n",
    "                                                       random_state = 12 ,\n",
    "                                                       test_size =0.20)"
   ]
  },
  {
   "cell_type": "code",
   "execution_count": null,
   "id": "e854e987",
   "metadata": {},
   "outputs": [],
   "source": [
    "clf = LazyClassifier(verbose=0,\n",
    "                     ignore_warnings=True,\n",
    "                     custom_metric=None,\n",
    "                     predictions=False,\n",
    "                     random_state=12,\n",
    "                     classifiers='all')\n",
    "\n",
    "models, predictions = clf.fit(X_train , X_test , y_train , y_test)\n",
    "clear_output()"
   ]
  },
  {
   "cell_type": "code",
   "execution_count": null,
   "id": "b17b31a5",
   "metadata": {},
   "outputs": [],
   "source": [
    "models[:15]"
   ]
  },
  {
   "cell_type": "code",
   "execution_count": null,
   "id": "ef84ae9c",
   "metadata": {},
   "outputs": [],
   "source": []
  }
 ],
 "metadata": {
  "kernelspec": {
   "display_name": "Python 3 (ipykernel)",
   "language": "python",
   "name": "python3"
  },
  "language_info": {
   "codemirror_mode": {
    "name": "ipython",
    "version": 3
   },
   "file_extension": ".py",
   "mimetype": "text/x-python",
   "name": "python",
   "nbconvert_exporter": "python",
   "pygments_lexer": "ipython3",
   "version": "3.10.9"
  }
 },
 "nbformat": 4,
 "nbformat_minor": 5
}
