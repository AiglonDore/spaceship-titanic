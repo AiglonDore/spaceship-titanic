{
 "cells": [
  {
   "cell_type": "code",
   "execution_count": null,
   "id": "b7352bb1",
   "metadata": {},
   "outputs": [],
   "source": [
    "import pandas as pd\n",
    "import numpy as np\n",
    "import matplotlib.pyplot as plt\n",
    "import seaborn as sns"
   ]
  },
  {
   "cell_type": "markdown",
   "id": "bf8229bb",
   "metadata": {},
   "source": [
    "On commence par importer la data"
   ]
  },
  {
   "cell_type": "code",
   "execution_count": null,
   "id": "2cc4a88d",
   "metadata": {},
   "outputs": [],
   "source": [
    "data_train=pd.read_csv(\"train.csv\")\n",
    "data_test=pd.read_csv(\"test.csv\") "
   ]
  },
  {
   "cell_type": "markdown",
   "id": "35f3b249",
   "metadata": {},
   "source": [
    "On visualise notre tableau de données:"
   ]
  },
  {
   "cell_type": "code",
   "execution_count": null,
   "id": "95cac78c",
   "metadata": {},
   "outputs": [],
   "source": [
    "pd.DataFrame.head(data_train)"
   ]
  },
  {
   "cell_type": "code",
   "execution_count": null,
   "id": "4a1db55c",
   "metadata": {},
   "outputs": [],
   "source": [
    "data_train.shape"
   ]
  },
  {
   "cell_type": "markdown",
   "id": "ec404b2a",
   "metadata": {},
   "source": [
    "On en déduit que nous possédons 14 variables actuellement. "
   ]
  },
  {
   "cell_type": "code",
   "execution_count": null,
   "id": "65eb158a",
   "metadata": {
    "scrolled": false
   },
   "outputs": [],
   "source": [
    "data_train.info()"
   ]
  },
  {
   "cell_type": "code",
   "execution_count": null,
   "id": "69220c0d",
   "metadata": {},
   "outputs": [],
   "source": [
    "data_train.shape()"
   ]
  },
  {
   "cell_type": "markdown",
   "id": "e6e0c4b2",
   "metadata": {},
   "source": [
    "## Séparation des valeurs contenues dans une donnée\n",
    "La donnée **PassengerId** correspond à l'identifiant unique associé à chaque passager. Cette donnée est sous forme **gggg_pp** où :\n",
    "- **gggg** correspond au groupe avec lequel le passager voyage \n",
    "- **pp** correspond au nombre de personne dans le groupe\n",
    "\n",
    "La donnée **Cabin** sous la forme **deck/num/side** contient différentes informations:\n",
    "- **deck** indique le pont dans lequel se situe la cabine\n",
    "- **num** indique le numéro de la cabine \n",
    "- **side** indique le coté, celui-ci peut être *P* pour *Port* ou *S* pour *Starboard*\n",
    "\n",
    "La donnée **Name** est composée du prénom et du nom de passager."
   ]
  },
  {
   "cell_type": "code",
   "execution_count": null,
   "id": "4506c5b1",
   "metadata": {},
   "outputs": [],
   "source": [
    "data_train=data_train.assign(Group_id=data_train['PassengerId'].str[:4].astype(np.int16),\n",
    "                             Numb_pass_group=data_train['PassengerId'].str[5:].astype(np.int16),\n",
    "                             Cabin_deck=data_train['Cabin'].str.split(\"/\").str[0],\n",
    "                             Cabin_num=data_train['Cabin'].str.split(\"/\").str[1],\n",
    "                             Cabin_side=data_train['Cabin'].str.split(\"/\").str[2],\n",
    "                             First_name=data_train['Name'].str.split(\" \").str[0],\n",
    "                             Last_name=data_train['Name'].str.split(\" \").str[1])\n",
    "data_train.drop(columns=['PassengerId','Cabin','Name'], inplace=True)"
   ]
  },
  {
   "cell_type": "code",
   "execution_count": null,
   "id": "80bb83f6",
   "metadata": {},
   "outputs": [],
   "source": [
    "data_train.describe()"
   ]
  },
  {
   "cell_type": "markdown",
   "id": "92c08dbe",
   "metadata": {},
   "source": []
  },
  {
   "cell_type": "code",
   "execution_count": null,
   "id": "96cc2d01",
   "metadata": {},
   "outputs": [],
   "source": [
    "## Visualize Correlation \n",
    "plt.figure(5, figsize=(25, 10))\n",
    "corr = data_train.apply(lambda x: pd.factorize(x)[0]).corr()\n",
    "mask = np.triu(np.ones_like(corr, dtype=bool))\n",
    "ax = sns.heatmap(corr, mask=mask, xticklabels=corr.columns, yticklabels=corr.columns, annot=True, linewidths=.2, cmap='coolwarm', vmin=-1, vmax=1)\n",
    "plt.show()"
   ]
  },
  {
   "cell_type": "code",
   "execution_count": null,
   "id": "ec3be39a",
   "metadata": {},
   "outputs": [],
   "source": [
    "sns.heatmap(data_train.corr(), annot=True, fmt=\".2f\")"
   ]
  },
  {
   "cell_type": "code",
   "execution_count": null,
   "id": "b2e6e608",
   "metadata": {},
   "outputs": [],
   "source": [
    "data_train.corr(method='spearman').style.format(\"{:.2}\").background_gradient(cmap=plt.get_cmap('coolwarm'))"
   ]
  },
  {
   "cell_type": "markdown",
   "id": "c3ea462e",
   "metadata": {},
   "source": [
    "## Valeurs manquantes:\n",
    "On commence par visualiser les valeurs manquantes dans nos données."
   ]
  },
  {
   "cell_type": "code",
   "execution_count": null,
   "id": "2896bb6a",
   "metadata": {},
   "outputs": [],
   "source": [
    "print(data_train.isnull().sum())\n",
    "sns.heatmap(data_train.isnull())"
   ]
  },
  {
   "cell_type": "code",
   "execution_count": null,
   "id": "c2a151b3",
   "metadata": {},
   "outputs": [],
   "source": [
    "print(data_train.info())"
   ]
  },
  {
   "cell_type": "code",
   "execution_count": null,
   "id": "46dd7fa4",
   "metadata": {},
   "outputs": [],
   "source": [
    "if()"
   ]
  },
  {
   "cell_type": "code",
   "execution_count": null,
   "id": "847b65c3",
   "metadata": {},
   "outputs": [],
   "source": []
  }
 ],
 "metadata": {
  "kernelspec": {
   "display_name": "Python 3 (ipykernel)",
   "language": "python",
   "name": "python3"
  },
  "language_info": {
   "codemirror_mode": {
    "name": "ipython",
    "version": 3
   },
   "file_extension": ".py",
   "mimetype": "text/x-python",
   "name": "python",
   "nbconvert_exporter": "python",
   "pygments_lexer": "ipython3",
   "version": "3.7.15"
  }
 },
 "nbformat": 4,
 "nbformat_minor": 5
}
